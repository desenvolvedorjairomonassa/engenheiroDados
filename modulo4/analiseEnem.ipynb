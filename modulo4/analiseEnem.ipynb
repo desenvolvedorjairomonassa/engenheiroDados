{
 "cells": [
  {
   "cell_type": "code",
   "execution_count": 1,
   "id": "3ead8cc5-8561-4141-9c0a-fe9e60dc055f",
   "metadata": {},
   "outputs": [],
   "source": [
    "import pandas as pd\n",
    "import numpy as np\n",
    "import random\n",
    "\n",
    "source = 'MICRODADOS_ENEM_2020.csv'\n",
    "\n",
    "df = pd.read_csv(source,encoding=\"ISO-8859-1\",delimiter=\";\",\n",
    "                    usecols=['NU_NOTA_MT','SG_UF_ESC','NU_NOTA_CN','NU_NOTA_CH','NU_NOTA_LC',\n",
    "                            'TP_SEXO','NO_MUNICIPIO_ESC','Q021','Q016','Q002','Q005','Q001','Q006',\n",
    "                            'TP_LINGUA','TP_FAIXA_ETARIA','TP_ESCOLA'],nrows=2500000)\n"
   ]
  },
  {
   "cell_type": "code",
   "execution_count": 2,
   "id": "fae39921-a219-4300-8341-a85129d72738",
   "metadata": {},
   "outputs": [
    {
     "data": {
      "text/html": [
       "<div>\n",
       "<style scoped>\n",
       "    .dataframe tbody tr th:only-of-type {\n",
       "        vertical-align: middle;\n",
       "    }\n",
       "\n",
       "    .dataframe tbody tr th {\n",
       "        vertical-align: top;\n",
       "    }\n",
       "\n",
       "    .dataframe thead th {\n",
       "        text-align: right;\n",
       "    }\n",
       "</style>\n",
       "<table border=\"1\" class=\"dataframe\">\n",
       "  <thead>\n",
       "    <tr style=\"text-align: right;\">\n",
       "      <th></th>\n",
       "      <th>TP_FAIXA_ETARIA</th>\n",
       "      <th>TP_SEXO</th>\n",
       "      <th>TP_ESCOLA</th>\n",
       "      <th>NO_MUNICIPIO_ESC</th>\n",
       "      <th>SG_UF_ESC</th>\n",
       "      <th>NU_NOTA_CN</th>\n",
       "      <th>NU_NOTA_CH</th>\n",
       "      <th>NU_NOTA_LC</th>\n",
       "      <th>NU_NOTA_MT</th>\n",
       "      <th>TP_LINGUA</th>\n",
       "      <th>Q001</th>\n",
       "      <th>Q002</th>\n",
       "      <th>Q005</th>\n",
       "      <th>Q006</th>\n",
       "      <th>Q016</th>\n",
       "      <th>Q021</th>\n",
       "    </tr>\n",
       "  </thead>\n",
       "  <tbody>\n",
       "    <tr>\n",
       "      <th>2499999</th>\n",
       "      <td>3</td>\n",
       "      <td>F</td>\n",
       "      <td>1</td>\n",
       "      <td>NaN</td>\n",
       "      <td>NaN</td>\n",
       "      <td>NaN</td>\n",
       "      <td>NaN</td>\n",
       "      <td>NaN</td>\n",
       "      <td>NaN</td>\n",
       "      <td>0</td>\n",
       "      <td>D</td>\n",
       "      <td>C</td>\n",
       "      <td>4.0</td>\n",
       "      <td>D</td>\n",
       "      <td>B</td>\n",
       "      <td>A</td>\n",
       "    </tr>\n",
       "  </tbody>\n",
       "</table>\n",
       "</div>"
      ],
      "text/plain": [
       "         TP_FAIXA_ETARIA TP_SEXO  TP_ESCOLA NO_MUNICIPIO_ESC SG_UF_ESC  \\\n",
       "2499999                3       F          1              NaN       NaN   \n",
       "\n",
       "         NU_NOTA_CN  NU_NOTA_CH  NU_NOTA_LC  NU_NOTA_MT  TP_LINGUA Q001 Q002  \\\n",
       "2499999         NaN         NaN         NaN         NaN          0    D    C   \n",
       "\n",
       "         Q005 Q006 Q016 Q021  \n",
       "2499999   4.0    D    B    A  "
      ]
     },
     "execution_count": 2,
     "metadata": {},
     "output_type": "execute_result"
    }
   ],
   "source": [
    "df.iloc[-1:]"
   ]
  },
  {
   "cell_type": "code",
   "execution_count": 5,
   "id": "3b78740f-97b3-4ebc-b67e-c6f64fdd72fb",
   "metadata": {},
   "outputs": [
    {
     "data": {
      "text/html": [
       "<div>\n",
       "<style scoped>\n",
       "    .dataframe tbody tr th:only-of-type {\n",
       "        vertical-align: middle;\n",
       "    }\n",
       "\n",
       "    .dataframe tbody tr th {\n",
       "        vertical-align: top;\n",
       "    }\n",
       "\n",
       "    .dataframe thead th {\n",
       "        text-align: right;\n",
       "    }\n",
       "</style>\n",
       "<table border=\"1\" class=\"dataframe\">\n",
       "  <thead>\n",
       "    <tr style=\"text-align: right;\">\n",
       "      <th></th>\n",
       "      <th>TP_FAIXA_ETARIA</th>\n",
       "      <th>TP_SEXO</th>\n",
       "      <th>TP_ESCOLA</th>\n",
       "      <th>NO_MUNICIPIO_ESC</th>\n",
       "      <th>SG_UF_ESC</th>\n",
       "      <th>NU_NOTA_CN</th>\n",
       "      <th>NU_NOTA_CH</th>\n",
       "      <th>NU_NOTA_LC</th>\n",
       "      <th>NU_NOTA_MT</th>\n",
       "      <th>TP_LINGUA</th>\n",
       "      <th>Q001</th>\n",
       "      <th>Q002</th>\n",
       "      <th>Q005</th>\n",
       "      <th>Q006</th>\n",
       "      <th>Q016</th>\n",
       "      <th>Q021</th>\n",
       "    </tr>\n",
       "  </thead>\n",
       "  <tbody>\n",
       "    <tr>\n",
       "      <th>0</th>\n",
       "      <td>11</td>\n",
       "      <td>F</td>\n",
       "      <td>1</td>\n",
       "      <td>NaN</td>\n",
       "      <td>NaN</td>\n",
       "      <td>NaN</td>\n",
       "      <td>NaN</td>\n",
       "      <td>NaN</td>\n",
       "      <td>NaN</td>\n",
       "      <td>1</td>\n",
       "      <td>NaN</td>\n",
       "      <td>NaN</td>\n",
       "      <td>NaN</td>\n",
       "      <td>NaN</td>\n",
       "      <td>NaN</td>\n",
       "      <td>NaN</td>\n",
       "    </tr>\n",
       "    <tr>\n",
       "      <th>1</th>\n",
       "      <td>11</td>\n",
       "      <td>M</td>\n",
       "      <td>1</td>\n",
       "      <td>NaN</td>\n",
       "      <td>NaN</td>\n",
       "      <td>604.1</td>\n",
       "      <td>661.7</td>\n",
       "      <td>595.3</td>\n",
       "      <td>711.3</td>\n",
       "      <td>1</td>\n",
       "      <td>NaN</td>\n",
       "      <td>NaN</td>\n",
       "      <td>NaN</td>\n",
       "      <td>NaN</td>\n",
       "      <td>NaN</td>\n",
       "      <td>NaN</td>\n",
       "    </tr>\n",
       "    <tr>\n",
       "      <th>2</th>\n",
       "      <td>4</td>\n",
       "      <td>F</td>\n",
       "      <td>2</td>\n",
       "      <td>Salvador</td>\n",
       "      <td>BA</td>\n",
       "      <td>NaN</td>\n",
       "      <td>NaN</td>\n",
       "      <td>NaN</td>\n",
       "      <td>NaN</td>\n",
       "      <td>0</td>\n",
       "      <td>B</td>\n",
       "      <td>C</td>\n",
       "      <td>3.0</td>\n",
       "      <td>B</td>\n",
       "      <td>B</td>\n",
       "      <td>A</td>\n",
       "    </tr>\n",
       "    <tr>\n",
       "      <th>3</th>\n",
       "      <td>2</td>\n",
       "      <td>M</td>\n",
       "      <td>2</td>\n",
       "      <td>Santana de Parnaíba</td>\n",
       "      <td>SP</td>\n",
       "      <td>620.8</td>\n",
       "      <td>675.0</td>\n",
       "      <td>624.2</td>\n",
       "      <td>759.4</td>\n",
       "      <td>0</td>\n",
       "      <td>NaN</td>\n",
       "      <td>NaN</td>\n",
       "      <td>NaN</td>\n",
       "      <td>NaN</td>\n",
       "      <td>NaN</td>\n",
       "      <td>NaN</td>\n",
       "    </tr>\n",
       "    <tr>\n",
       "      <th>4</th>\n",
       "      <td>4</td>\n",
       "      <td>F</td>\n",
       "      <td>1</td>\n",
       "      <td>NaN</td>\n",
       "      <td>NaN</td>\n",
       "      <td>NaN</td>\n",
       "      <td>NaN</td>\n",
       "      <td>NaN</td>\n",
       "      <td>NaN</td>\n",
       "      <td>1</td>\n",
       "      <td>B</td>\n",
       "      <td>G</td>\n",
       "      <td>3.0</td>\n",
       "      <td>B</td>\n",
       "      <td>A</td>\n",
       "      <td>B</td>\n",
       "    </tr>\n",
       "  </tbody>\n",
       "</table>\n",
       "</div>"
      ],
      "text/plain": [
       "   TP_FAIXA_ETARIA TP_SEXO  TP_ESCOLA     NO_MUNICIPIO_ESC SG_UF_ESC  \\\n",
       "0               11       F          1                  NaN       NaN   \n",
       "1               11       M          1                  NaN       NaN   \n",
       "2                4       F          2             Salvador        BA   \n",
       "3                2       M          2  Santana de Parnaíba        SP   \n",
       "4                4       F          1                  NaN       NaN   \n",
       "\n",
       "   NU_NOTA_CN  NU_NOTA_CH  NU_NOTA_LC  NU_NOTA_MT  TP_LINGUA Q001 Q002  Q005  \\\n",
       "0         NaN         NaN         NaN         NaN          1  NaN  NaN   NaN   \n",
       "1       604.1       661.7       595.3       711.3          1  NaN  NaN   NaN   \n",
       "2         NaN         NaN         NaN         NaN          0    B    C   3.0   \n",
       "3       620.8       675.0       624.2       759.4          0  NaN  NaN   NaN   \n",
       "4         NaN         NaN         NaN         NaN          1    B    G   3.0   \n",
       "\n",
       "  Q006 Q016 Q021  \n",
       "0  NaN  NaN  NaN  \n",
       "1  NaN  NaN  NaN  \n",
       "2    B    B    A  \n",
       "3  NaN  NaN  NaN  \n",
       "4    B    A    B  "
      ]
     },
     "execution_count": 5,
     "metadata": {},
     "output_type": "execute_result"
    }
   ],
   "source": [
    "df.head()"
   ]
  },
  {
   "cell_type": "code",
   "execution_count": 3,
   "id": "516d4521-95d9-4462-a0c6-3c8064852043",
   "metadata": {},
   "outputs": [],
   "source": [
    "df2 = pd.read_csv(source,encoding=\"ISO-8859-1\",delimiter=\";\",\n",
    "                    usecols=['NU_NOTA_MT','SG_UF_ESC','NU_NOTA_CN','NU_NOTA_CH','NU_NOTA_LC',\n",
    "                            'TP_SEXO','NO_MUNICIPIO_ESC','Q021','Q016','Q002','Q005','Q001','Q006',\n",
    "                            'TP_LINGUA','TP_FAIXA_ETARIA','TP_ESCOLA'],skiprows = [i for i in range(1,2500000) ])\n",
    "\n"
   ]
  },
  {
   "cell_type": "code",
   "execution_count": 4,
   "id": "6112951a-4793-4f9a-b999-51ef3d49fc45",
   "metadata": {},
   "outputs": [
    {
     "data": {
      "text/html": [
       "<div>\n",
       "<style scoped>\n",
       "    .dataframe tbody tr th:only-of-type {\n",
       "        vertical-align: middle;\n",
       "    }\n",
       "\n",
       "    .dataframe tbody tr th {\n",
       "        vertical-align: top;\n",
       "    }\n",
       "\n",
       "    .dataframe thead th {\n",
       "        text-align: right;\n",
       "    }\n",
       "</style>\n",
       "<table border=\"1\" class=\"dataframe\">\n",
       "  <thead>\n",
       "    <tr style=\"text-align: right;\">\n",
       "      <th></th>\n",
       "      <th>TP_FAIXA_ETARIA</th>\n",
       "      <th>TP_SEXO</th>\n",
       "      <th>TP_ESCOLA</th>\n",
       "      <th>NO_MUNICIPIO_ESC</th>\n",
       "      <th>SG_UF_ESC</th>\n",
       "      <th>NU_NOTA_CN</th>\n",
       "      <th>NU_NOTA_CH</th>\n",
       "      <th>NU_NOTA_LC</th>\n",
       "      <th>NU_NOTA_MT</th>\n",
       "      <th>TP_LINGUA</th>\n",
       "      <th>Q001</th>\n",
       "      <th>Q002</th>\n",
       "      <th>Q005</th>\n",
       "      <th>Q006</th>\n",
       "      <th>Q016</th>\n",
       "      <th>Q021</th>\n",
       "    </tr>\n",
       "  </thead>\n",
       "  <tbody>\n",
       "    <tr>\n",
       "      <th>0</th>\n",
       "      <td>3</td>\n",
       "      <td>F</td>\n",
       "      <td>1</td>\n",
       "      <td>NaN</td>\n",
       "      <td>NaN</td>\n",
       "      <td>NaN</td>\n",
       "      <td>NaN</td>\n",
       "      <td>NaN</td>\n",
       "      <td>NaN</td>\n",
       "      <td>0</td>\n",
       "      <td>D</td>\n",
       "      <td>C</td>\n",
       "      <td>4.0</td>\n",
       "      <td>D</td>\n",
       "      <td>B</td>\n",
       "      <td>A</td>\n",
       "    </tr>\n",
       "    <tr>\n",
       "      <th>1</th>\n",
       "      <td>15</td>\n",
       "      <td>F</td>\n",
       "      <td>1</td>\n",
       "      <td>NaN</td>\n",
       "      <td>NaN</td>\n",
       "      <td>NaN</td>\n",
       "      <td>NaN</td>\n",
       "      <td>NaN</td>\n",
       "      <td>NaN</td>\n",
       "      <td>0</td>\n",
       "      <td>B</td>\n",
       "      <td>B</td>\n",
       "      <td>4.0</td>\n",
       "      <td>C</td>\n",
       "      <td>A</td>\n",
       "      <td>B</td>\n",
       "    </tr>\n",
       "    <tr>\n",
       "      <th>2</th>\n",
       "      <td>4</td>\n",
       "      <td>M</td>\n",
       "      <td>1</td>\n",
       "      <td>NaN</td>\n",
       "      <td>NaN</td>\n",
       "      <td>NaN</td>\n",
       "      <td>NaN</td>\n",
       "      <td>NaN</td>\n",
       "      <td>NaN</td>\n",
       "      <td>1</td>\n",
       "      <td>C</td>\n",
       "      <td>B</td>\n",
       "      <td>4.0</td>\n",
       "      <td>B</td>\n",
       "      <td>B</td>\n",
       "      <td>A</td>\n",
       "    </tr>\n",
       "    <tr>\n",
       "      <th>3</th>\n",
       "      <td>6</td>\n",
       "      <td>F</td>\n",
       "      <td>1</td>\n",
       "      <td>NaN</td>\n",
       "      <td>NaN</td>\n",
       "      <td>458.3</td>\n",
       "      <td>397.9</td>\n",
       "      <td>385.0</td>\n",
       "      <td>451.9</td>\n",
       "      <td>0</td>\n",
       "      <td>C</td>\n",
       "      <td>E</td>\n",
       "      <td>3.0</td>\n",
       "      <td>D</td>\n",
       "      <td>B</td>\n",
       "      <td>A</td>\n",
       "    </tr>\n",
       "    <tr>\n",
       "      <th>4</th>\n",
       "      <td>4</td>\n",
       "      <td>M</td>\n",
       "      <td>1</td>\n",
       "      <td>NaN</td>\n",
       "      <td>NaN</td>\n",
       "      <td>NaN</td>\n",
       "      <td>NaN</td>\n",
       "      <td>NaN</td>\n",
       "      <td>NaN</td>\n",
       "      <td>0</td>\n",
       "      <td>D</td>\n",
       "      <td>F</td>\n",
       "      <td>4.0</td>\n",
       "      <td>D</td>\n",
       "      <td>B</td>\n",
       "      <td>A</td>\n",
       "    </tr>\n",
       "  </tbody>\n",
       "</table>\n",
       "</div>"
      ],
      "text/plain": [
       "   TP_FAIXA_ETARIA TP_SEXO  TP_ESCOLA NO_MUNICIPIO_ESC SG_UF_ESC  NU_NOTA_CN  \\\n",
       "0                3       F          1              NaN       NaN         NaN   \n",
       "1               15       F          1              NaN       NaN         NaN   \n",
       "2                4       M          1              NaN       NaN         NaN   \n",
       "3                6       F          1              NaN       NaN       458.3   \n",
       "4                4       M          1              NaN       NaN         NaN   \n",
       "\n",
       "   NU_NOTA_CH  NU_NOTA_LC  NU_NOTA_MT  TP_LINGUA Q001 Q002  Q005 Q006 Q016  \\\n",
       "0         NaN         NaN         NaN          0    D    C   4.0    D    B   \n",
       "1         NaN         NaN         NaN          0    B    B   4.0    C    A   \n",
       "2         NaN         NaN         NaN          1    C    B   4.0    B    B   \n",
       "3       397.9       385.0       451.9          0    C    E   3.0    D    B   \n",
       "4         NaN         NaN         NaN          0    D    F   4.0    D    B   \n",
       "\n",
       "  Q021  \n",
       "0    A  \n",
       "1    B  \n",
       "2    A  \n",
       "3    A  \n",
       "4    A  "
      ]
     },
     "execution_count": 4,
     "metadata": {},
     "output_type": "execute_result"
    }
   ],
   "source": [
    "df2.head()"
   ]
  },
  {
   "cell_type": "code",
   "execution_count": 6,
   "id": "9432c761-c949-49d4-a441-22e943c8005b",
   "metadata": {},
   "outputs": [],
   "source": [
    "df = df.append(df2)"
   ]
  },
  {
   "cell_type": "code",
   "execution_count": 8,
   "id": "73cddce6-1568-4b59-9b13-c7086defb799",
   "metadata": {},
   "outputs": [
    {
     "data": {
      "text/plain": [
       "(5783110, 16)"
      ]
     },
     "execution_count": 8,
     "metadata": {},
     "output_type": "execute_result"
    }
   ],
   "source": [
    "df.shape"
   ]
  },
  {
   "cell_type": "code",
   "execution_count": 11,
   "id": "d799df2e-ebcf-45ce-a3d5-07ba1bc7d35e",
   "metadata": {},
   "outputs": [
    {
     "data": {
      "text/plain": [
       "579.6812230047454"
      ]
     },
     "execution_count": 11,
     "metadata": {},
     "output_type": "execute_result"
    }
   ],
   "source": [
    "#Qual é a média da nota em matemática dos alunos que estudaram numa escola em Minas Gerais?\n",
    "df.loc[df['SG_UF_ESC'] == 'MG']['NU_NOTA_MT'].mean()"
   ]
  },
  {
   "cell_type": "code",
   "execution_count": 12,
   "id": "afc9569f-3b2a-4e91-89a0-9e6ba83cb704",
   "metadata": {},
   "outputs": [
    {
     "data": {
      "text/plain": [
       "553.0102913021044"
      ]
     },
     "execution_count": 12,
     "metadata": {},
     "output_type": "execute_result"
    }
   ],
   "source": [
    "#Qual é a média da nota em Linguagens e Códigos dos alunos que estudaram numa escola em Minas Gerais?\n",
    "df.loc[df['SG_UF_ESC'] == 'MG']['NU_NOTA_LC'].mean()"
   ]
  },
  {
   "cell_type": "code",
   "execution_count": 16,
   "id": "c2d83391-53be-4eb3-a9d1-866fb4a816f0",
   "metadata": {},
   "outputs": [
    {
     "data": {
      "text/plain": [
       "541.30846117234"
      ]
     },
     "execution_count": 16,
     "metadata": {},
     "output_type": "execute_result"
    }
   ],
   "source": [
    "#Qual é a média da nota em Ciências Humanas dos alunos do sexo FEMININO que estudaram numa escola em Minas Gerais?\n",
    "df.loc[(df['TP_SEXO'] == 'F')&(df['SG_UF_ESC'] == 'MG')]['NU_NOTA_CH'].mean()"
   ]
  },
  {
   "cell_type": "code",
   "execution_count": 17,
   "id": "e1d4a9b1-42d9-40f6-b383-9ad09a90a44f",
   "metadata": {},
   "outputs": [
    {
     "data": {
      "text/plain": [
       "559.5546844135107"
      ]
     },
     "execution_count": 17,
     "metadata": {},
     "output_type": "execute_result"
    }
   ],
   "source": [
    "#Qual é a média da nota em Ciências Humanas dos alunos do sexo MASCULINO que estudaram numa escola em Minas Gerais?\n",
    "df.loc[(df['TP_SEXO'] == 'M')&(df['SG_UF_ESC'] == 'MG')]['NU_NOTA_CH'].mean()"
   ]
  },
  {
   "cell_type": "code",
   "execution_count": 18,
   "id": "d2090c6c-29d7-427c-882a-09c88a78cc68",
   "metadata": {},
   "outputs": [
    {
     "data": {
      "text/plain": [
       "562.9888361045129"
      ]
     },
     "execution_count": 18,
     "metadata": {},
     "output_type": "execute_result"
    }
   ],
   "source": [
    "#Qual é a média da nota em Matemática dos alunos do sexo FEMININO que estudaram numa escola na cidade de Montes Claros?\n",
    "df.loc[(df['TP_SEXO'] == 'F')&(df['NO_MUNICIPIO_ESC'] == 'Montes Claros')]['NU_NOTA_MT'].mean()"
   ]
  },
  {
   "cell_type": "code",
   "execution_count": 21,
   "id": "4d1bfc4c-1ca2-43fc-8f22-59714a6e558f",
   "metadata": {},
   "outputs": [
    {
     "data": {
      "text/plain": [
       "580.102985074627"
      ]
     },
     "execution_count": 21,
     "metadata": {},
     "output_type": "execute_result"
    }
   ],
   "source": [
    "#Qual é a média da nota em Matemática dos alunos que estudaram numa escola no município de Sabará e que possuem TV por assinatura na residência?\n",
    "df.loc[(df['NO_MUNICIPIO_ESC'] == 'Sabará')&(df['Q021']=='B')]['NU_NOTA_MT'].mean()"
   ]
  },
  {
   "cell_type": "code",
   "execution_count": 22,
   "id": "8310eeff-3046-4658-90d6-fff201f94677",
   "metadata": {},
   "outputs": [
    {
     "data": {
      "text/plain": [
       "601.4825757575752"
      ]
     },
     "execution_count": 22,
     "metadata": {},
     "output_type": "execute_result"
    }
   ],
   "source": [
    "#Qual é a média da nota em Ciências Humanas dos alunos que estudaram numa escola em Minas Gerais e que possuem dois fornos micro-ondas em casa?\n",
    "df.loc[(df['Q016'] == 'C')&(df['SG_UF_ESC'] == 'MG')]['NU_NOTA_CH'].mean()"
   ]
  },
  {
   "cell_type": "code",
   "execution_count": 23,
   "id": "187422b2-6f04-4432-8f1b-9eaed8659200",
   "metadata": {},
   "outputs": [
    {
     "data": {
      "text/plain": [
       "642.24518448662"
      ]
     },
     "execution_count": 23,
     "metadata": {},
     "output_type": "execute_result"
    }
   ],
   "source": [
    "#Qual é a nota média em Matemática dos alunos que estudaram numa escola em Minas Gerais e cuja mãe completou a pós-graduação?\n",
    "df.loc[(df['Q002'] == 'G')&(df['SG_UF_ESC'] == 'MG')]['NU_NOTA_MT'].mean()"
   ]
  },
  {
   "cell_type": "code",
   "execution_count": 26,
   "id": "1eec5280-e1c0-4552-9ef6-0e19ddb54951",
   "metadata": {},
   "outputs": [
    {
     "data": {
      "text/plain": [
       "621.0282524049466"
      ]
     },
     "execution_count": 26,
     "metadata": {},
     "output_type": "execute_result"
    }
   ],
   "source": [
    "#Qual é a nota média em Matemática dos alunos que estudaram numa escola em Belo Horizonte ou em Conselheiro Lafaiete?\n",
    "df.loc[(df['NO_MUNICIPIO_ESC'] == 'Conselheiro Lafaiete')|(df['NO_MUNICIPIO_ESC'] == 'Belo Horizonte')]['NU_NOTA_MT'].mean()"
   ]
  },
  {
   "cell_type": "code",
   "execution_count": 28,
   "id": "ca471fa0-a2e8-43f9-a211-1e575e362b6e",
   "metadata": {},
   "outputs": [
    {
     "data": {
      "text/plain": [
       "537.0544303797469"
      ]
     },
     "execution_count": 28,
     "metadata": {},
     "output_type": "execute_result"
    }
   ],
   "source": [
    "#Qual é a nota média em Ciências Humanas dos alunos que estudaram numa escola em Minas Gerais e que moram sozinhos?\n",
    "df.loc[(df['Q005'] == 1)&(df['SG_UF_ESC'] == 'MG')]['NU_NOTA_CH'].mean()"
   ]
  },
  {
   "cell_type": "code",
   "execution_count": 30,
   "id": "3c91fcef-b15a-4bba-9c27-b0fbcef5ec48",
   "metadata": {},
   "outputs": [
    {
     "data": {
      "text/plain": [
       "623.9422535211263"
      ]
     },
     "execution_count": 30,
     "metadata": {},
     "output_type": "execute_result"
    }
   ],
   "source": [
    "#Qual é a nota média em Ciências Humanas dos alunos que estudaram numa escola em Minas Gerais, cujo pai completou pós-graduação \n",
    "#e possuem renda familiar entre R$ 8.360,01 e R$ 9.405,00?\n",
    "df.loc[(df['Q001'] == 'G')&(df['SG_UF_ESC'] == 'MG')&(df['Q006'] =='L')]['NU_NOTA_CH'].mean()"
   ]
  },
  {
   "cell_type": "code",
   "execution_count": 32,
   "id": "ccd55426-5a36-457d-a378-59dad1445a2c",
   "metadata": {},
   "outputs": [
    {
     "data": {
      "text/plain": [
       "513.3833333333336"
      ]
     },
     "execution_count": 32,
     "metadata": {},
     "output_type": "execute_result"
    }
   ],
   "source": [
    "#Qual é a nota média em Matemática dos alunos do sexo Feminino que estudaram numa escola em Lavras e escolheram “Espanhol” como língua estrangeira?\n",
    "df.loc[(df['TP_SEXO'] == 'F')&(df['NO_MUNICIPIO_ESC'] == 'Lavras')&(df['TP_LINGUA']==1)]['NU_NOTA_MT'].mean()"
   ]
  },
  {
   "cell_type": "code",
   "execution_count": 33,
   "id": "f58c3f0f-fbec-45b6-b4af-d7eed8671225",
   "metadata": {},
   "outputs": [
    {
     "data": {
      "text/plain": [
       "615.5823529411764"
      ]
     },
     "execution_count": 33,
     "metadata": {},
     "output_type": "execute_result"
    }
   ],
   "source": [
    "#Qual é a nota média em Matemática dos alunos do sexo Masculino que estudaram numa escola em Ouro Preto?\n",
    "df.loc[(df['TP_SEXO'] == 'M')&(df['NO_MUNICIPIO_ESC'] == 'Ouro Preto')]['NU_NOTA_MT'].mean()"
   ]
  },
  {
   "cell_type": "code",
   "execution_count": 34,
   "id": "775fb64d-226d-45d5-8929-3ae27b8c5775",
   "metadata": {},
   "outputs": [
    {
     "data": {
      "text/plain": [
       "473.47792207792213"
      ]
     },
     "execution_count": 34,
     "metadata": {},
     "output_type": "execute_result"
    }
   ],
   "source": [
    "#Qual é a nota média em Ciências Humanas dos alunos que estudaram numa escola em Minas Gerais e possuem entre 26 e 30 anos?\n",
    "df.loc[(df['TP_FAIXA_ETARIA'] == 11)&(df['SG_UF_ESC'] == 'MG')]['NU_NOTA_CH'].mean()"
   ]
  },
  {
   "cell_type": "code",
   "execution_count": 39,
   "id": "33bfc847-6836-41e5-9a44-dbf66259c50d",
   "metadata": {},
   "outputs": [
    {
     "data": {
      "text/plain": [
       "679.1369481765836"
      ]
     },
     "execution_count": 39,
     "metadata": {},
     "output_type": "execute_result"
    }
   ],
   "source": [
    "#Qual é a nota média em Matemática dos alunos do sexo FEMININO, que estudaram numa escola em Belo Horizonte, \n",
    "#Sabará, Nova Lima ou Betim e estudaram em uma escola privada?\n",
    "df.loc[((df['NO_MUNICIPIO_ESC'] == 'Belo Horizonte')|(df['NO_MUNICIPIO_ESC'] == 'Betim')|(df['NO_MUNICIPIO_ESC'] == 'Nova Lima')|(df['NO_MUNICIPIO_ESC'] == 'Sabará'))&(df['TP_SEXO'] == 'F')&(df['TP_ESCOLA']==3)]['NU_NOTA_MT'].mean()"
   ]
  },
  {
   "cell_type": "code",
   "execution_count": null,
   "id": "46cc13cf-2e2d-43e2-b692-a79a512aeb74",
   "metadata": {},
   "outputs": [],
   "source": []
  }
 ],
 "metadata": {
  "kernelspec": {
   "display_name": "Python 3 (ipykernel)",
   "language": "python",
   "name": "python3"
  },
  "language_info": {
   "codemirror_mode": {
    "name": "ipython",
    "version": 3
   },
   "file_extension": ".py",
   "mimetype": "text/x-python",
   "name": "python",
   "nbconvert_exporter": "python",
   "pygments_lexer": "ipython3",
   "version": "3.9.7"
  }
 },
 "nbformat": 4,
 "nbformat_minor": 5
}
