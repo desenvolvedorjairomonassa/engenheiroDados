{
 "cells": [
  {
   "cell_type": "code",
   "execution_count": 1,
   "id": "3ead8cc5-8561-4141-9c0a-fe9e60dc055f",
   "metadata": {},
   "outputs": [],
   "source": [
    "import pandas as pd\n",
    "import numpy as np\n",
    "import random\n",
    "import dask.dataframe as dd\n",
    "source = 'MICRODADOS_ENEM_2020.csv'\n",
    "\n",
    "\n"
   ]
  },
  {
   "cell_type": "code",
   "execution_count": 10,
   "id": "518b6813-522e-4875-9a33-9548f39e50ee",
   "metadata": {},
   "outputs": [],
   "source": [
    "df = dd.read_csv(source,encoding=\"ISO-8859-1\",delimiter=\";\",\n",
    "                    usecols=['NU_NOTA_MT','SG_UF_ESC','NU_NOTA_CN','NU_NOTA_CH','NU_NOTA_LC',\n",
    "                            'TP_SEXO','NO_MUNICIPIO_ESC','Q021','Q016','Q002','Q005','Q001','Q006',\n",
    "                            'TP_LINGUA','TP_FAIXA_ETARIA','TP_ESCOLA'])"
   ]
  },
  {
   "cell_type": "code",
   "execution_count": 11,
   "id": "fae39921-a219-4300-8341-a85129d72738",
   "metadata": {},
   "outputs": [
    {
     "data": {
      "text/html": [
       "<div>\n",
       "<style scoped>\n",
       "    .dataframe tbody tr th:only-of-type {\n",
       "        vertical-align: middle;\n",
       "    }\n",
       "\n",
       "    .dataframe tbody tr th {\n",
       "        vertical-align: top;\n",
       "    }\n",
       "\n",
       "    .dataframe thead th {\n",
       "        text-align: right;\n",
       "    }\n",
       "</style>\n",
       "<table border=\"1\" class=\"dataframe\">\n",
       "  <thead>\n",
       "    <tr style=\"text-align: right;\">\n",
       "      <th></th>\n",
       "      <th>TP_FAIXA_ETARIA</th>\n",
       "      <th>TP_SEXO</th>\n",
       "      <th>TP_ESCOLA</th>\n",
       "      <th>NO_MUNICIPIO_ESC</th>\n",
       "      <th>SG_UF_ESC</th>\n",
       "      <th>NU_NOTA_CN</th>\n",
       "      <th>NU_NOTA_CH</th>\n",
       "      <th>NU_NOTA_LC</th>\n",
       "      <th>NU_NOTA_MT</th>\n",
       "      <th>TP_LINGUA</th>\n",
       "      <th>Q001</th>\n",
       "      <th>Q002</th>\n",
       "      <th>Q005</th>\n",
       "      <th>Q006</th>\n",
       "      <th>Q016</th>\n",
       "      <th>Q021</th>\n",
       "    </tr>\n",
       "  </thead>\n",
       "  <tbody>\n",
       "    <tr>\n",
       "      <th>0</th>\n",
       "      <td>11</td>\n",
       "      <td>F</td>\n",
       "      <td>1</td>\n",
       "      <td>NaN</td>\n",
       "      <td>NaN</td>\n",
       "      <td>NaN</td>\n",
       "      <td>NaN</td>\n",
       "      <td>NaN</td>\n",
       "      <td>NaN</td>\n",
       "      <td>1</td>\n",
       "      <td>NaN</td>\n",
       "      <td>NaN</td>\n",
       "      <td>NaN</td>\n",
       "      <td>NaN</td>\n",
       "      <td>NaN</td>\n",
       "      <td>NaN</td>\n",
       "    </tr>\n",
       "    <tr>\n",
       "      <th>1</th>\n",
       "      <td>11</td>\n",
       "      <td>M</td>\n",
       "      <td>1</td>\n",
       "      <td>NaN</td>\n",
       "      <td>NaN</td>\n",
       "      <td>604.1</td>\n",
       "      <td>661.7</td>\n",
       "      <td>595.3</td>\n",
       "      <td>711.3</td>\n",
       "      <td>1</td>\n",
       "      <td>NaN</td>\n",
       "      <td>NaN</td>\n",
       "      <td>NaN</td>\n",
       "      <td>NaN</td>\n",
       "      <td>NaN</td>\n",
       "      <td>NaN</td>\n",
       "    </tr>\n",
       "    <tr>\n",
       "      <th>2</th>\n",
       "      <td>4</td>\n",
       "      <td>F</td>\n",
       "      <td>2</td>\n",
       "      <td>Salvador</td>\n",
       "      <td>BA</td>\n",
       "      <td>NaN</td>\n",
       "      <td>NaN</td>\n",
       "      <td>NaN</td>\n",
       "      <td>NaN</td>\n",
       "      <td>0</td>\n",
       "      <td>B</td>\n",
       "      <td>C</td>\n",
       "      <td>3.0</td>\n",
       "      <td>B</td>\n",
       "      <td>B</td>\n",
       "      <td>A</td>\n",
       "    </tr>\n",
       "    <tr>\n",
       "      <th>3</th>\n",
       "      <td>2</td>\n",
       "      <td>M</td>\n",
       "      <td>2</td>\n",
       "      <td>Santana de Parnaíba</td>\n",
       "      <td>SP</td>\n",
       "      <td>620.8</td>\n",
       "      <td>675.0</td>\n",
       "      <td>624.2</td>\n",
       "      <td>759.4</td>\n",
       "      <td>0</td>\n",
       "      <td>NaN</td>\n",
       "      <td>NaN</td>\n",
       "      <td>NaN</td>\n",
       "      <td>NaN</td>\n",
       "      <td>NaN</td>\n",
       "      <td>NaN</td>\n",
       "    </tr>\n",
       "    <tr>\n",
       "      <th>4</th>\n",
       "      <td>4</td>\n",
       "      <td>F</td>\n",
       "      <td>1</td>\n",
       "      <td>NaN</td>\n",
       "      <td>NaN</td>\n",
       "      <td>NaN</td>\n",
       "      <td>NaN</td>\n",
       "      <td>NaN</td>\n",
       "      <td>NaN</td>\n",
       "      <td>1</td>\n",
       "      <td>B</td>\n",
       "      <td>G</td>\n",
       "      <td>3.0</td>\n",
       "      <td>B</td>\n",
       "      <td>A</td>\n",
       "      <td>B</td>\n",
       "    </tr>\n",
       "    <tr>\n",
       "      <th>5</th>\n",
       "      <td>3</td>\n",
       "      <td>F</td>\n",
       "      <td>1</td>\n",
       "      <td>NaN</td>\n",
       "      <td>NaN</td>\n",
       "      <td>498.1</td>\n",
       "      <td>604.7</td>\n",
       "      <td>505.4</td>\n",
       "      <td>526.7</td>\n",
       "      <td>1</td>\n",
       "      <td>C</td>\n",
       "      <td>B</td>\n",
       "      <td>5.0</td>\n",
       "      <td>C</td>\n",
       "      <td>B</td>\n",
       "      <td>A</td>\n",
       "    </tr>\n",
       "    <tr>\n",
       "      <th>6</th>\n",
       "      <td>9</td>\n",
       "      <td>M</td>\n",
       "      <td>1</td>\n",
       "      <td>NaN</td>\n",
       "      <td>NaN</td>\n",
       "      <td>NaN</td>\n",
       "      <td>NaN</td>\n",
       "      <td>NaN</td>\n",
       "      <td>NaN</td>\n",
       "      <td>0</td>\n",
       "      <td>NaN</td>\n",
       "      <td>NaN</td>\n",
       "      <td>NaN</td>\n",
       "      <td>NaN</td>\n",
       "      <td>NaN</td>\n",
       "      <td>NaN</td>\n",
       "    </tr>\n",
       "    <tr>\n",
       "      <th>7</th>\n",
       "      <td>4</td>\n",
       "      <td>M</td>\n",
       "      <td>1</td>\n",
       "      <td>NaN</td>\n",
       "      <td>NaN</td>\n",
       "      <td>604.6</td>\n",
       "      <td>604.8</td>\n",
       "      <td>562.1</td>\n",
       "      <td>753.2</td>\n",
       "      <td>0</td>\n",
       "      <td>NaN</td>\n",
       "      <td>NaN</td>\n",
       "      <td>NaN</td>\n",
       "      <td>NaN</td>\n",
       "      <td>NaN</td>\n",
       "      <td>NaN</td>\n",
       "    </tr>\n",
       "    <tr>\n",
       "      <th>8</th>\n",
       "      <td>5</td>\n",
       "      <td>F</td>\n",
       "      <td>1</td>\n",
       "      <td>NaN</td>\n",
       "      <td>NaN</td>\n",
       "      <td>439.7</td>\n",
       "      <td>383.5</td>\n",
       "      <td>486.2</td>\n",
       "      <td>448.5</td>\n",
       "      <td>1</td>\n",
       "      <td>B</td>\n",
       "      <td>C</td>\n",
       "      <td>2.0</td>\n",
       "      <td>B</td>\n",
       "      <td>A</td>\n",
       "      <td>A</td>\n",
       "    </tr>\n",
       "    <tr>\n",
       "      <th>9</th>\n",
       "      <td>2</td>\n",
       "      <td>M</td>\n",
       "      <td>2</td>\n",
       "      <td>NaN</td>\n",
       "      <td>NaN</td>\n",
       "      <td>NaN</td>\n",
       "      <td>NaN</td>\n",
       "      <td>NaN</td>\n",
       "      <td>NaN</td>\n",
       "      <td>0</td>\n",
       "      <td>A</td>\n",
       "      <td>A</td>\n",
       "      <td>4.0</td>\n",
       "      <td>B</td>\n",
       "      <td>A</td>\n",
       "      <td>A</td>\n",
       "    </tr>\n",
       "  </tbody>\n",
       "</table>\n",
       "</div>"
      ],
      "text/plain": [
       "   TP_FAIXA_ETARIA TP_SEXO  TP_ESCOLA     NO_MUNICIPIO_ESC SG_UF_ESC  \\\n",
       "0               11       F          1                  NaN       NaN   \n",
       "1               11       M          1                  NaN       NaN   \n",
       "2                4       F          2             Salvador        BA   \n",
       "3                2       M          2  Santana de Parnaíba        SP   \n",
       "4                4       F          1                  NaN       NaN   \n",
       "5                3       F          1                  NaN       NaN   \n",
       "6                9       M          1                  NaN       NaN   \n",
       "7                4       M          1                  NaN       NaN   \n",
       "8                5       F          1                  NaN       NaN   \n",
       "9                2       M          2                  NaN       NaN   \n",
       "\n",
       "   NU_NOTA_CN  NU_NOTA_CH  NU_NOTA_LC  NU_NOTA_MT  TP_LINGUA Q001 Q002  Q005  \\\n",
       "0         NaN         NaN         NaN         NaN          1  NaN  NaN   NaN   \n",
       "1       604.1       661.7       595.3       711.3          1  NaN  NaN   NaN   \n",
       "2         NaN         NaN         NaN         NaN          0    B    C   3.0   \n",
       "3       620.8       675.0       624.2       759.4          0  NaN  NaN   NaN   \n",
       "4         NaN         NaN         NaN         NaN          1    B    G   3.0   \n",
       "5       498.1       604.7       505.4       526.7          1    C    B   5.0   \n",
       "6         NaN         NaN         NaN         NaN          0  NaN  NaN   NaN   \n",
       "7       604.6       604.8       562.1       753.2          0  NaN  NaN   NaN   \n",
       "8       439.7       383.5       486.2       448.5          1    B    C   2.0   \n",
       "9         NaN         NaN         NaN         NaN          0    A    A   4.0   \n",
       "\n",
       "  Q006 Q016 Q021  \n",
       "0  NaN  NaN  NaN  \n",
       "1  NaN  NaN  NaN  \n",
       "2    B    B    A  \n",
       "3  NaN  NaN  NaN  \n",
       "4    B    A    B  \n",
       "5    C    B    A  \n",
       "6  NaN  NaN  NaN  \n",
       "7  NaN  NaN  NaN  \n",
       "8    B    A    A  \n",
       "9    B    A    A  "
      ]
     },
     "execution_count": 11,
     "metadata": {},
     "output_type": "execute_result"
    }
   ],
   "source": [
    "df.head(10)"
   ]
  },
  {
   "cell_type": "code",
   "execution_count": 14,
   "id": "73cddce6-1568-4b59-9b13-c7086defb799",
   "metadata": {},
   "outputs": [
    {
     "data": {
      "text/plain": [
       "TP_FAIXA_ETARIA     5783109\n",
       "TP_SEXO             5783109\n",
       "TP_ESCOLA           5783109\n",
       "NO_MUNICIPIO_ESC     904569\n",
       "SG_UF_ESC            904569\n",
       "NU_NOTA_CN          2597440\n",
       "NU_NOTA_CH          2754140\n",
       "NU_NOTA_LC          2754140\n",
       "NU_NOTA_MT          2597440\n",
       "TP_LINGUA           5783109\n",
       "Q001                5687143\n",
       "Q002                5687143\n",
       "Q005                5687143\n",
       "Q006                5687143\n",
       "Q016                5687143\n",
       "Q021                5687143\n",
       "dtype: int64"
      ]
     },
     "execution_count": 14,
     "metadata": {},
     "output_type": "execute_result"
    }
   ],
   "source": [
    "df.count().compute()"
   ]
  },
  {
   "cell_type": "code",
   "execution_count": 15,
   "id": "1bf65267-8db3-4954-8bc2-20b5b46d3fe1",
   "metadata": {},
   "outputs": [],
   "source": [
    "columns=['NU_NOTA_CN','NU_NOTA_CH','NU_NOTA_LC','NU_NOTA_MT']\n",
    "df[columns] = df[columns].fillna(value=0)"
   ]
  },
  {
   "cell_type": "code",
   "execution_count": 16,
   "id": "d799df2e-ebcf-45ce-a3d5-07ba1bc7d35e",
   "metadata": {},
   "outputs": [
    {
     "data": {
      "text/plain": [
       "380.43452118300894"
      ]
     },
     "execution_count": 16,
     "metadata": {},
     "output_type": "execute_result"
    }
   ],
   "source": [
    "#Qual é a média da nota em matemática dos alunos que estudaram numa escola em Minas Gerais?\n",
    "consulta1 = df.loc[df['SG_UF_ESC'] == 'MG']['NU_NOTA_MT'].mean()\n",
    "consulta1.compute()"
   ]
  },
  {
   "cell_type": "code",
   "execution_count": 17,
   "id": "afc9569f-3b2a-4e91-89a0-9e6ba83cb704",
   "metadata": {},
   "outputs": [
    {
     "data": {
      "text/plain": [
       "375.1008866981316"
      ]
     },
     "execution_count": 17,
     "metadata": {},
     "output_type": "execute_result"
    }
   ],
   "source": [
    "#Qual é a média da nota em Linguagens e Códigos dos alunos que estudaram numa escola em Minas Gerais?\n",
    "consulta2 = df.loc[df['SG_UF_ESC'] == 'MG']['NU_NOTA_LC'].mean()\n",
    "consulta2.compute()"
   ]
  },
  {
   "cell_type": "code",
   "execution_count": 18,
   "id": "c2d83391-53be-4eb3-a9d1-866fb4a816f0",
   "metadata": {},
   "outputs": [
    {
     "data": {
      "text/plain": [
       "370.47103337676657"
      ]
     },
     "execution_count": 18,
     "metadata": {},
     "output_type": "execute_result"
    }
   ],
   "source": [
    "#Qual é a média da nota em Ciências Humanas dos alunos do sexo FEMININO que estudaram numa escola em Minas Gerais?\n",
    "consulta3 =df.loc[(df['TP_SEXO'] == 'F')&(df['SG_UF_ESC'] == 'MG')]['NU_NOTA_CH'].mean()\n",
    "consulta3.compute()"
   ]
  },
  {
   "cell_type": "code",
   "execution_count": 19,
   "id": "e1d4a9b1-42d9-40f6-b383-9ad09a90a44f",
   "metadata": {},
   "outputs": [
    {
     "data": {
      "text/plain": [
       "375.2366019050022"
      ]
     },
     "execution_count": 19,
     "metadata": {},
     "output_type": "execute_result"
    }
   ],
   "source": [
    "#Qual é a média da nota em Ciências Humanas dos alunos do sexo MASCULINO que estudaram numa escola em Minas Gerais?\n",
    "consulta4 = df.loc[(df['TP_SEXO'] == 'M')&(df['SG_UF_ESC'] == 'MG')]['NU_NOTA_CH'].mean()\n",
    "consulta4.compute()"
   ]
  },
  {
   "cell_type": "code",
   "execution_count": 20,
   "id": "d2090c6c-29d7-427c-882a-09c88a78cc68",
   "metadata": {},
   "outputs": [
    {
     "data": {
      "text/plain": [
       "425.14493273542604"
      ]
     },
     "execution_count": 20,
     "metadata": {},
     "output_type": "execute_result"
    }
   ],
   "source": [
    "#Qual é a média da nota em Matemática dos alunos do sexo FEMININO que estudaram numa escola na cidade de Montes Claros?\n",
    "consulta5 = df.loc[(df['TP_SEXO'] == 'F')&(df['NO_MUNICIPIO_ESC'] == 'Montes Claros')]['NU_NOTA_MT'].mean()\n",
    "consulta5.compute()"
   ]
  },
  {
   "cell_type": "code",
   "execution_count": 24,
   "id": "4d1bfc4c-1ca2-43fc-8f22-59714a6e558f",
   "metadata": {},
   "outputs": [
    {
     "data": {
      "text/plain": [
       "422.4663043478261"
      ]
     },
     "execution_count": 24,
     "metadata": {},
     "output_type": "execute_result"
    }
   ],
   "source": [
    "#Qual é a média da nota em Matemática dos alunos que estudaram numa escola no município de Sabará e que possuem TV por assinatura na residência?\n",
    "consulta6 = df.loc[(df['NO_MUNICIPIO_ESC'] == 'Sabará')&(df['Q021']=='B')]['NU_NOTA_MT'].mean()\n",
    "consulta6.compute()"
   ]
  },
  {
   "cell_type": "code",
   "execution_count": 22,
   "id": "8310eeff-3046-4658-90d6-fff201f94677",
   "metadata": {},
   "outputs": [
    {
     "data": {
      "text/plain": [
       "438.6502762430939"
      ]
     },
     "execution_count": 22,
     "metadata": {},
     "output_type": "execute_result"
    }
   ],
   "source": [
    "#Qual é a média da nota em Ciências Humanas dos alunos que estudaram numa escola em Minas Gerais e que possuem dois fornos micro-ondas em casa?\n",
    "consulta7=df.loc[(df['Q016'] == 'C')&(df['SG_UF_ESC'] == 'MG')]['NU_NOTA_CH'].mean()\n",
    "consulta7.compute()"
   ]
  },
  {
   "cell_type": "code",
   "execution_count": 25,
   "id": "187422b2-6f04-4432-8f1b-9eaed8659200",
   "metadata": {},
   "outputs": [
    {
     "data": {
      "text/plain": [
       "529.7195819154108"
      ]
     },
     "execution_count": 25,
     "metadata": {},
     "output_type": "execute_result"
    }
   ],
   "source": [
    "#Qual é a nota média em Matemática dos alunos que estudaram numa escola em Minas Gerais e cuja mãe completou a pós-graduação?\n",
    "consulta8 = df.loc[(df['Q002'] == 'G')&(df['SG_UF_ESC'] == 'MG')]['NU_NOTA_MT'].mean()\n",
    "consulta8.compute()"
   ]
  },
  {
   "cell_type": "code",
   "execution_count": 27,
   "id": "1eec5280-e1c0-4552-9ef6-0e19ddb54951",
   "metadata": {},
   "outputs": [
    {
     "data": {
      "text/plain": [
       "439.5216971956557"
      ]
     },
     "execution_count": 27,
     "metadata": {},
     "output_type": "execute_result"
    }
   ],
   "source": [
    "#Qual é a nota média em Matemática dos alunos que estudaram numa escola em Belo Horizonte ou em Conselheiro Lafaiete?\n",
    "consulta9 = df.loc[(df['NO_MUNICIPIO_ESC'] == 'Conselheiro Lafaiete')|(df['NO_MUNICIPIO_ESC'] == 'Belo Horizonte')]['NU_NOTA_MT'].mean()\n",
    "consulta9.compute()"
   ]
  },
  {
   "cell_type": "code",
   "execution_count": 28,
   "id": "ca471fa0-a2e8-43f9-a211-1e575e362b6e",
   "metadata": {},
   "outputs": [
    {
     "data": {
      "text/plain": [
       "203.48824940047962"
      ]
     },
     "execution_count": 28,
     "metadata": {},
     "output_type": "execute_result"
    }
   ],
   "source": [
    "#Qual é a nota média em Ciências Humanas dos alunos que estudaram numa escola em Minas Gerais e que moram sozinhos?\n",
    "consulta10 = df.loc[(df['Q005'] == 1)&(df['SG_UF_ESC'] == 'MG')]['NU_NOTA_CH'].mean()\n",
    "consulta10.compute()"
   ]
  },
  {
   "cell_type": "code",
   "execution_count": 29,
   "id": "3c91fcef-b15a-4bba-9c27-b0fbcef5ec48",
   "metadata": {},
   "outputs": [
    {
     "data": {
      "text/plain": [
       "544.6709016393443"
      ]
     },
     "execution_count": 29,
     "metadata": {},
     "output_type": "execute_result"
    }
   ],
   "source": [
    "#Qual é a nota média em Ciências Humanas dos alunos que estudaram numa escola em Minas Gerais, cujo pai completou pós-graduação \n",
    "#e possuem renda familiar entre R$ 8.360,01 e R$ 9.405,00?\n",
    "consulta11 = df.loc[(df['Q001'] == 'G')&(df['SG_UF_ESC'] == 'MG')&(df['Q006'] =='L')]['NU_NOTA_CH'].mean()\n",
    "consulta11.compute()"
   ]
  },
  {
   "cell_type": "code",
   "execution_count": 30,
   "id": "ccd55426-5a36-457d-a378-59dad1445a2c",
   "metadata": {},
   "outputs": [
    {
     "data": {
      "text/plain": [
       "342.2555555555556"
      ]
     },
     "execution_count": 30,
     "metadata": {},
     "output_type": "execute_result"
    }
   ],
   "source": [
    "#Qual é a nota média em Matemática dos alunos do sexo Feminino que estudaram numa escola em Lavras e escolheram “Espanhol” como língua estrangeira?\n",
    "consulta12 = df.loc[(df['TP_SEXO'] == 'F')&(df['NO_MUNICIPIO_ESC'] == 'Lavras')&(df['TP_LINGUA']==1)]['NU_NOTA_MT'].mean()\n",
    "consulta12.compute()"
   ]
  },
  {
   "cell_type": "code",
   "execution_count": 31,
   "id": "f58c3f0f-fbec-45b6-b4af-d7eed8671225",
   "metadata": {},
   "outputs": [
    {
     "data": {
      "text/plain": [
       "416.5134328358209"
      ]
     },
     "execution_count": 31,
     "metadata": {},
     "output_type": "execute_result"
    }
   ],
   "source": [
    "#Qual é a nota média em Matemática dos alunos do sexo Masculino que estudaram numa escola em Ouro Preto?\n",
    "consulta13 = df.loc[(df['TP_SEXO'] == 'M')&(df['NO_MUNICIPIO_ESC'] == 'Ouro Preto')]['NU_NOTA_MT'].mean()\n",
    "consulta13.compute()"
   ]
  },
  {
   "cell_type": "code",
   "execution_count": 34,
   "id": "775fb64d-226d-45d5-8929-3ae27b8c5775",
   "metadata": {},
   "outputs": [
    {
     "data": {
      "text/plain": [
       "473.47792207792213"
      ]
     },
     "execution_count": 34,
     "metadata": {},
     "output_type": "execute_result"
    }
   ],
   "source": [
    "#Qual é a nota média em Ciências Humanas dos alunos que estudaram numa escola em Minas Gerais e possuem entre 26 e 30 anos?\n",
    "consulta14 = df.loc[(df['TP_FAIXA_ETARIA'] == 11)&(df['SG_UF_ESC'] == 'MG')]['NU_NOTA_CH'].mean()\n",
    "consulta14.compute()"
   ]
  },
  {
   "cell_type": "code",
   "execution_count": 32,
   "id": "33bfc847-6836-41e5-9a44-dbf66259c50d",
   "metadata": {},
   "outputs": [
    {
     "data": {
      "text/plain": [
       "583.1567367119901"
      ]
     },
     "execution_count": 32,
     "metadata": {},
     "output_type": "execute_result"
    }
   ],
   "source": [
    "#Qual é a nota média em Matemática dos alunos do sexo FEMININO, que estudaram numa escola em Belo Horizonte, \n",
    "#Sabará, Nova Lima ou Betim e estudaram em uma escola privada?\n",
    "consulta15 = df.loc[((df['NO_MUNICIPIO_ESC'] == 'Belo Horizonte')|(df['NO_MUNICIPIO_ESC'] == 'Betim')|(df['NO_MUNICIPIO_ESC'] == 'Nova Lima')|(df['NO_MUNICIPIO_ESC'] == 'Sabará'))&(df['TP_SEXO'] == 'F')&(df['TP_ESCOLA']==3)]['NU_NOTA_MT'].mean()\n",
    "consulta15.compute()"
   ]
  }
 ],
 "metadata": {
  "kernelspec": {
   "display_name": "Python 3 (ipykernel)",
   "language": "python",
   "name": "python3"
  },
  "language_info": {
   "codemirror_mode": {
    "name": "ipython",
    "version": 3
   },
   "file_extension": ".py",
   "mimetype": "text/x-python",
   "name": "python",
   "nbconvert_exporter": "python",
   "pygments_lexer": "ipython3",
   "version": "3.9.7"
  }
 },
 "nbformat": 4,
 "nbformat_minor": 5
}
