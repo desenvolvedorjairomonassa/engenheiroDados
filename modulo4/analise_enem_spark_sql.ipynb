{
 "cells": [
  {
   "cell_type": "code",
   "execution_count": 1,
   "id": "f21e5b81",
   "metadata": {},
   "outputs": [],
   "source": [
    "from pyspark.sql import SparkSession\n",
    "from pyspark.sql import functions as f"
   ]
  },
  {
   "cell_type": "code",
   "execution_count": 2,
   "id": "b483e03b",
   "metadata": {},
   "outputs": [],
   "source": [
    "#Start session Context com nome ENEM\n",
    "spark = SparkSession.builder.appName(\"ENEM\").getOrCreate()"
   ]
  },
  {
   "cell_type": "code",
   "execution_count": 3,
   "id": "af37be42",
   "metadata": {},
   "outputs": [
    {
     "name": "stdout",
     "output_type": "stream",
     "text": [
      "Wall time: 18.4 s\n"
     ]
    }
   ],
   "source": [
    "%%time\n",
    "enem = (\n",
    "    spark\n",
    "    .read\n",
    "    .format(\"csv\")\n",
    "    .options(header=True, sep=\";\", encoding=\"latin1\", inferSchema=True)\n",
    "    .load(\"MICRODADOS_ENEM_2020.csv\")\n",
    " )\n"
   ]
  },
  {
   "cell_type": "code",
   "execution_count": 4,
   "id": "9c5f90cb",
   "metadata": {
    "scrolled": true,
    "tags": []
   },
   "outputs": [
    {
     "name": "stdout",
     "output_type": "stream",
     "text": [
      "root\n",
      " |-- NU_INSCRICAO: long (nullable = true)\n",
      " |-- NU_ANO: integer (nullable = true)\n",
      " |-- TP_FAIXA_ETARIA: integer (nullable = true)\n",
      " |-- TP_SEXO: string (nullable = true)\n",
      " |-- TP_ESTADO_CIVIL: integer (nullable = true)\n",
      " |-- TP_COR_RACA: integer (nullable = true)\n",
      " |-- TP_NACIONALIDADE: integer (nullable = true)\n",
      " |-- TP_ST_CONCLUSAO: integer (nullable = true)\n",
      " |-- TP_ANO_CONCLUIU: integer (nullable = true)\n",
      " |-- TP_ESCOLA: integer (nullable = true)\n",
      " |-- TP_ENSINO: integer (nullable = true)\n",
      " |-- IN_TREINEIRO: integer (nullable = true)\n",
      " |-- CO_MUNICIPIO_ESC: integer (nullable = true)\n",
      " |-- NO_MUNICIPIO_ESC: string (nullable = true)\n",
      " |-- CO_UF_ESC: integer (nullable = true)\n",
      " |-- SG_UF_ESC: string (nullable = true)\n",
      " |-- TP_DEPENDENCIA_ADM_ESC: integer (nullable = true)\n",
      " |-- TP_LOCALIZACAO_ESC: integer (nullable = true)\n",
      " |-- TP_SIT_FUNC_ESC: integer (nullable = true)\n",
      " |-- CO_MUNICIPIO_PROVA: integer (nullable = true)\n",
      " |-- NO_MUNICIPIO_PROVA: string (nullable = true)\n",
      " |-- CO_UF_PROVA: integer (nullable = true)\n",
      " |-- SG_UF_PROVA: string (nullable = true)\n",
      " |-- TP_PRESENCA_CN: integer (nullable = true)\n",
      " |-- TP_PRESENCA_CH: integer (nullable = true)\n",
      " |-- TP_PRESENCA_LC: integer (nullable = true)\n",
      " |-- TP_PRESENCA_MT: integer (nullable = true)\n",
      " |-- CO_PROVA_CN: integer (nullable = true)\n",
      " |-- CO_PROVA_CH: integer (nullable = true)\n",
      " |-- CO_PROVA_LC: integer (nullable = true)\n",
      " |-- CO_PROVA_MT: integer (nullable = true)\n",
      " |-- NU_NOTA_CN: double (nullable = true)\n",
      " |-- NU_NOTA_CH: double (nullable = true)\n",
      " |-- NU_NOTA_LC: double (nullable = true)\n",
      " |-- NU_NOTA_MT: double (nullable = true)\n",
      " |-- TX_RESPOSTAS_CN: string (nullable = true)\n",
      " |-- TX_RESPOSTAS_CH: string (nullable = true)\n",
      " |-- TX_RESPOSTAS_LC: string (nullable = true)\n",
      " |-- TX_RESPOSTAS_MT: string (nullable = true)\n",
      " |-- TP_LINGUA: integer (nullable = true)\n",
      " |-- TX_GABARITO_CN: string (nullable = true)\n",
      " |-- TX_GABARITO_CH: string (nullable = true)\n",
      " |-- TX_GABARITO_LC: string (nullable = true)\n",
      " |-- TX_GABARITO_MT: string (nullable = true)\n",
      " |-- TP_STATUS_REDACAO: integer (nullable = true)\n",
      " |-- NU_NOTA_COMP1: integer (nullable = true)\n",
      " |-- NU_NOTA_COMP2: integer (nullable = true)\n",
      " |-- NU_NOTA_COMP3: integer (nullable = true)\n",
      " |-- NU_NOTA_COMP4: integer (nullable = true)\n",
      " |-- NU_NOTA_COMP5: integer (nullable = true)\n",
      " |-- NU_NOTA_REDACAO: integer (nullable = true)\n",
      " |-- Q001: string (nullable = true)\n",
      " |-- Q002: string (nullable = true)\n",
      " |-- Q003: string (nullable = true)\n",
      " |-- Q004: string (nullable = true)\n",
      " |-- Q005: integer (nullable = true)\n",
      " |-- Q006: string (nullable = true)\n",
      " |-- Q007: string (nullable = true)\n",
      " |-- Q008: string (nullable = true)\n",
      " |-- Q009: string (nullable = true)\n",
      " |-- Q010: string (nullable = true)\n",
      " |-- Q011: string (nullable = true)\n",
      " |-- Q012: string (nullable = true)\n",
      " |-- Q013: string (nullable = true)\n",
      " |-- Q014: string (nullable = true)\n",
      " |-- Q015: string (nullable = true)\n",
      " |-- Q016: string (nullable = true)\n",
      " |-- Q017: string (nullable = true)\n",
      " |-- Q018: string (nullable = true)\n",
      " |-- Q019: string (nullable = true)\n",
      " |-- Q020: string (nullable = true)\n",
      " |-- Q021: string (nullable = true)\n",
      " |-- Q022: string (nullable = true)\n",
      " |-- Q023: string (nullable = true)\n",
      " |-- Q024: string (nullable = true)\n",
      " |-- Q025: string (nullable = true)\n",
      "\n"
     ]
    }
   ],
   "source": [
    "enem.printSchema()"
   ]
  },
  {
   "cell_type": "code",
   "execution_count": 7,
   "id": "ffa9f2e8-dff5-47ef-b1c7-3c2ce50818f5",
   "metadata": {},
   "outputs": [],
   "source": [
    "enem.createOrReplaceTempView('enem')"
   ]
  },
  {
   "cell_type": "code",
   "execution_count": 13,
   "id": "d39bcbb2",
   "metadata": {},
   "outputs": [
    {
     "name": "stdout",
     "output_type": "stream",
     "text": [
      "+----------+\n",
      "|quantidade|\n",
      "+----------+\n",
      "|   5783109|\n",
      "+----------+\n",
      "\n",
      "Wall time: 2.24 s\n"
     ]
    }
   ],
   "source": [
    "%%time\n",
    "#quantidade de registros\n",
    "spark.sql(\"\"\"\n",
    "    select count(*) as quantidade from enem\n",
    "\"\"\").show()"
   ]
  },
  {
   "cell_type": "code",
   "execution_count": 18,
   "id": "1b9ebf6b",
   "metadata": {},
   "outputs": [
    {
     "name": "stdout",
     "output_type": "stream",
     "text": [
      "+------+\n",
      "| media|\n",
      "+------+\n",
      "|579.68|\n",
      "+------+\n",
      "\n",
      "Wall time: 4.36 s\n"
     ]
    }
   ],
   "source": [
    "%%time\n",
    "#Qual é a média da nota em matemática dos alunos que estudaram numa escola em Minas Gerais?\n",
    "spark.sql(\"\"\"\n",
    "    select round(avg(NU_NOTA_MT),2) as media from enem\n",
    "    where SG_UF_ESC = 'MG'\n",
    "\"\"\").show()\n",
    "\n"
   ]
  },
  {
   "cell_type": "code",
   "execution_count": 21,
   "id": "56b6183b",
   "metadata": {},
   "outputs": [
    {
     "name": "stdout",
     "output_type": "stream",
     "text": [
      "== Physical Plan ==\n",
      "*(2) HashAggregate(keys=[], functions=[avg(NU_NOTA_MT#54)])\n",
      "+- Exchange SinglePartition, ENSURE_REQUIREMENTS, [id=#165]\n",
      "   +- *(1) HashAggregate(keys=[], functions=[partial_avg(NU_NOTA_MT#54)])\n",
      "      +- *(1) Project [NU_NOTA_MT#54]\n",
      "         +- *(1) Filter (isnotnull(SG_UF_ESC#35) AND (SG_UF_ESC#35 = MG))\n",
      "            +- FileScan csv [SG_UF_ESC#35,NU_NOTA_MT#54] Batched: false, DataFilters: [isnotnull(SG_UF_ESC#35), (SG_UF_ESC#35 = MG)], Format: CSV, Location: InMemoryFileIndex[file:/C:/Users/014207631/MICRODADOS_ENEM_2020.csv], PartitionFilters: [], PushedFilters: [IsNotNull(SG_UF_ESC), EqualTo(SG_UF_ESC,MG)], ReadSchema: struct<SG_UF_ESC:string,NU_NOTA_MT:double>\n",
      "\n",
      "\n"
     ]
    }
   ],
   "source": [
    "spark.sql(\"\"\"\n",
    " select round(avg(NU_NOTA_MT),2) as media from enem\n",
    "    where SG_UF_ESC = 'MG'\n",
    "\"\"\").explain()\n",
    "            "
   ]
  },
  {
   "cell_type": "code",
   "execution_count": 27,
   "id": "b3d80174-fb20-437d-aade-5ec92cf7a684",
   "metadata": {},
   "outputs": [
    {
     "name": "stdout",
     "output_type": "stream",
     "text": [
      "+-----------------+\n",
      "|       MEDIA NOTA|\n",
      "+-----------------+\n",
      "|553.0102913021103|\n",
      "+-----------------+\n",
      "\n",
      "Wall time: 3.98 s\n"
     ]
    }
   ],
   "source": [
    "%%time\n",
    "#Qual é a média da nota em Linguagens e Códigos dos alunos que estudaram numa escola em Minas Gerais?\n",
    "\n",
    "consulta2 = (enem\n",
    "             .filter(enem.SG_UF_ESC == 'MG')\n",
    "             .agg(\n",
    "                 f.mean('NU_NOTA_LC').alias('MEDIA NOTA')\n",
    "                  )\n",
    "                 \n",
    "            ) \n",
    "consulta2.show()"
   ]
  },
  {
   "cell_type": "code",
   "execution_count": 28,
   "id": "95c55e7d-0e05-44a2-8dce-7dd1d1baa790",
   "metadata": {},
   "outputs": [
    {
     "name": "stdout",
     "output_type": "stream",
     "text": [
      "+-----------------+\n",
      "|            MÉDIA|\n",
      "+-----------------+\n",
      "|541.3084611723356|\n",
      "+-----------------+\n",
      "\n",
      "Wall time: 3.93 s\n"
     ]
    }
   ],
   "source": [
    "%%time\n",
    "#Qual é a média da nota em Ciências Humanas dos alunos do sexo FEMININO que estudaram numa escola em Minas Gerais?\n",
    "consulta3 = (enem\n",
    "             .filter((enem.TP_SEXO == 'F') & (enem.SG_UF_ESC == 'MG'))\n",
    "             .agg( f.mean('NU_NOTA_CH').alias('MÉDIA'))\n",
    "            )\n",
    "consulta3.show()"
   ]
  },
  {
   "cell_type": "code",
   "execution_count": 29,
   "id": "e5b9c50b-e474-4fb2-99f6-9368ae518846",
   "metadata": {},
   "outputs": [
    {
     "name": "stdout",
     "output_type": "stream",
     "text": [
      "+-----------------+\n",
      "|       MÉDIA NOTA|\n",
      "+-----------------+\n",
      "|559.5546844135076|\n",
      "+-----------------+\n",
      "\n",
      "Wall time: 4 s\n"
     ]
    }
   ],
   "source": [
    "%%time\n",
    "#Qual é a média da nota em Ciências Humanas dos alunos do sexo MASCULINO que estudaram numa escola em Minas Gerais?\n",
    "consulta4 = (enem\n",
    "             .filter((enem.TP_SEXO == 'M') & (enem.SG_UF_ESC == 'MG'))\n",
    "             .agg( f.mean('NU_NOTA_CH').alias('MÉDIA NOTA'))\n",
    "            ) \n",
    "consulta4.show()"
   ]
  },
  {
   "cell_type": "code",
   "execution_count": 30,
   "id": "7ea35de0-5ffb-43df-956c-0f49d82ec0c6",
   "metadata": {},
   "outputs": [
    {
     "name": "stdout",
     "output_type": "stream",
     "text": [
      "+------+\n",
      "| MEDIA|\n",
      "+------+\n",
      "|562.99|\n",
      "+------+\n",
      "\n",
      "Wall time: 4.12 s\n"
     ]
    }
   ],
   "source": [
    "%%time\n",
    "#Qual é a média da nota em Matemática dos alunos do sexo FEMININO que estudaram numa escola na cidade de Montes Claros?\n",
    "consulta5 = (enem\n",
    "             .filter((enem.TP_SEXO == 'F')&(enem.NO_MUNICIPIO_ESC == 'Montes Claros'))\n",
    "             .agg( f.round(f.mean('NU_NOTA_MT'),2).alias('MEDIA'))\n",
    "            ) \n",
    "consulta5.show()"
   ]
  },
  {
   "cell_type": "code",
   "execution_count": 31,
   "id": "ef70d95f-efcb-46fb-a819-1e425c0f1c15",
   "metadata": {},
   "outputs": [
    {
     "name": "stdout",
     "output_type": "stream",
     "text": [
      "+-----+\n",
      "|MEDIA|\n",
      "+-----+\n",
      "|580.1|\n",
      "+-----+\n",
      "\n",
      "Wall time: 4.48 s\n"
     ]
    }
   ],
   "source": [
    "%%time\n",
    "#Qual é a média da nota em Matemática dos alunos que estudaram numa escola no município de Sabará e que possuem TV por assinatura na residência?\n",
    "consulta6 = (enem\n",
    "             .filter((enem.NO_MUNICIPIO_ESC == 'Sabará')&(enem.Q021=='B'))\n",
    "             .agg( f.round(f.mean('NU_NOTA_MT'),2).alias('MEDIA'))\n",
    "                 )      \n",
    "consulta6.show()"
   ]
  },
  {
   "cell_type": "code",
   "execution_count": 35,
   "id": "d84587a7-2989-4bb2-85e0-4db434859f1c",
   "metadata": {},
   "outputs": [
    {
     "name": "stdout",
     "output_type": "stream",
     "text": [
      "+-------------------------+\n",
      "|round(avg(NU_NOTA_CH), 2)|\n",
      "+-------------------------+\n",
      "|                   601.48|\n",
      "+-------------------------+\n",
      "\n",
      "Wall time: 3.89 s\n"
     ]
    }
   ],
   "source": [
    "%%time\n",
    "#Qual é a média da nota em Ciências Humanas dos alunos que estudaram numa escola em Minas Gerais e que possuem dois fornos micro-ondas em casa?\n",
    "consulta7= (enem\n",
    "       .filter((enem.Q016 == 'C')&(enem.SG_UF_ESC == 'MG'))\n",
    "       .agg(  f.round(f.mean('NU_NOTA_CH'),2)).alias('MEDIA')\n",
    "      ) \n",
    "consulta7.show()"
   ]
  },
  {
   "cell_type": "code",
   "execution_count": 39,
   "id": "d315c986-8919-462d-a84d-a6dfad904dcc",
   "metadata": {},
   "outputs": [
    {
     "name": "stdout",
     "output_type": "stream",
     "text": [
      "+------+\n",
      "| MEDIA|\n",
      "+------+\n",
      "|642.25|\n",
      "+------+\n",
      "\n",
      "Wall time: 3.88 s\n"
     ]
    }
   ],
   "source": [
    "%%time\n",
    "#Qual é a nota média em Matemática dos alunos que estudaram numa escola em Minas Gerais e cuja mãe completou a pós-graduação?\n",
    "consulta8 = (enem\n",
    "             .filter((enem.Q002 == 'G')&(enem.SG_UF_ESC == 'MG'))\n",
    "             .agg( f.round(f.mean('NU_NOTA_MT'),2).alias('MEDIA'))\n",
    "             )\n",
    "consulta8.show()"
   ]
  },
  {
   "cell_type": "code",
   "execution_count": 42,
   "id": "00f4a608-e482-4d82-aeb6-83f6df0dbd0c",
   "metadata": {},
   "outputs": [
    {
     "name": "stdout",
     "output_type": "stream",
     "text": [
      "+------+\n",
      "| media|\n",
      "+------+\n",
      "|621.03|\n",
      "+------+\n",
      "\n",
      "Wall time: 3.99 s\n"
     ]
    }
   ],
   "source": [
    "%%time\n",
    "#Qual é a nota média em Matemática dos alunos que estudaram numa escola em Belo Horizonte ou em Conselheiro Lafaiete?\n",
    "consulta9 = (enem\n",
    "             .filter((enem.NO_MUNICIPIO_ESC == 'Conselheiro Lafaiete')|\n",
    "                     (enem.NO_MUNICIPIO_ESC == 'Belo Horizonte'))\n",
    "             .agg( f.round(f.mean('NU_NOTA_MT'),2)\n",
    "                    .alias('media'))\n",
    "                 )     \n",
    "consulta9.show()"
   ]
  },
  {
   "cell_type": "code",
   "execution_count": null,
   "id": "fa08ea0c-d52e-4d21-8da9-bc4a348780a7",
   "metadata": {},
   "outputs": [],
   "source": []
  }
 ],
 "metadata": {
  "kernelspec": {
   "display_name": "Python 3 (ipykernel)",
   "language": "python",
   "name": "python3"
  },
  "language_info": {
   "codemirror_mode": {
    "name": "ipython",
    "version": 3
   },
   "file_extension": ".py",
   "mimetype": "text/x-python",
   "name": "python",
   "nbconvert_exporter": "python",
   "pygments_lexer": "ipython3",
   "version": "3.9.7"
  }
 },
 "nbformat": 4,
 "nbformat_minor": 5
}
