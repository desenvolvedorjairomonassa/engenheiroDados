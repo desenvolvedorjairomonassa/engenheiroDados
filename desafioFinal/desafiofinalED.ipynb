{
  "nbformat": 4,
  "nbformat_minor": 0,
  "metadata": {
    "colab": {
      "name": "desafiofinalED.ipynb",
      "provenance": []
    },
    "kernelspec": {
      "name": "python3",
      "display_name": "Python 3"
    },
    "language_info": {
      "name": "python"
    }
  },
  "cells": [
    {
      "cell_type": "code",
      "execution_count": 7,
      "metadata": {
        "id": "dGu8-lzV35u0",
        "colab": {
          "base_uri": "https://localhost:8080/"
        },
        "outputId": "3c9377fe-c7a5-4cd1-cc25-00a28a5c0320"
      },
      "outputs": [
        {
          "output_type": "stream",
          "name": "stdout",
          "text": [
            "Found existing installation: pymongo 4.1.0\n",
            "Uninstalling pymongo-4.1.0:\n",
            "  Successfully uninstalled pymongo-4.1.0\n",
            "Collecting pymongo[srv]\n",
            "  Using cached pymongo-4.1.0-cp37-cp37m-manylinux_2_17_x86_64.manylinux2014_x86_64.whl (462 kB)\n",
            "Requirement already satisfied: dnspython<3.0.0,>=1.16.0 in /usr/local/lib/python3.7/dist-packages (from pymongo[srv]) (2.2.1)\n",
            "Installing collected packages: pymongo\n",
            "Successfully installed pymongo-4.1.0\n"
          ]
        }
      ],
      "source": [
        "#instalando o pymongo para conectar com mongodb cloud (atlasy)\n",
        "!pip uninstall -y pymongo\n",
        "!pip install pymongo[srv] "
      ]
    },
    {
      "cell_type": "code",
      "source": [
        "#importando pandas\n",
        "import pandas as pd"
      ],
      "metadata": {
        "id": "J9dZadc7IaEH"
      },
      "execution_count": 8,
      "outputs": []
    },
    {
      "cell_type": "code",
      "source": [
        "#IMPORTANDO PYMONGO\n",
        "MONGO_PASSWORD = 'xxxxxxxxx'\n",
        "MONGO_USER = 'estudante_igti'\n",
        "DATABASE = 'ibge'\n",
        "HOST='xxxxxxxxxxxx'\n",
        "import pymongo\n",
        "import json"
      ],
      "metadata": {
        "id": "x9Kro-hxMs2U"
      },
      "execution_count": 9,
      "outputs": []
    },
    {
      "cell_type": "code",
      "source": [
        "#TESNTANDO NO BANCO\n",
        "try:    \n",
        "  client = pymongo.MongoClient(\"mongodb+srv://%s:%s@%s/%s?retryWrites=true&w=majority\"%(MONGO_USER,MONGO_PASSWORD,HOST,DATABASE))        \n",
        "  #db = client.test\n",
        "  db = client.get_database(DATABASE)\n",
        "  print('conectou')  \n",
        "  print(db.pnadc20203) \n",
        "  \n",
        "  collection = db.pnadc20203\n",
        "  print(type(collection))\n",
        "  contagem = collection.count_documents({})\n",
        "  print(contagem)\n",
        "except Exception as inst:       \n",
        "  print('erro no acesso ao banco coleção livros : %s' %(inst))    "
      ],
      "metadata": {
        "colab": {
          "base_uri": "https://localhost:8080/"
        },
        "id": "bC6B2hA5OPXT",
        "outputId": "022964c2-053e-4b14-d705-aeea8cfb9291"
      },
      "execution_count": 10,
      "outputs": [
        {
          "output_type": "stream",
          "name": "stdout",
          "text": [
            "conectou\n",
            "Collection(Database(MongoClient(host=['unicluster-shard-00-02.ixhvw.mongodb.net:27017', 'unicluster-shard-00-01.ixhvw.mongodb.net:27017', 'unicluster-shard-00-00.ixhvw.mongodb.net:27017'], document_class=dict, tz_aware=False, connect=True, retrywrites=True, w='majority', authsource='admin', replicaset='atlas-5wtvta-shard-0', tls=True), 'ibge'), 'pnadc20203')\n",
            "<class 'pymongo.collection.Collection'>\n",
            "368210\n"
          ]
        }
      ]
    },
    {
      "cell_type": "code",
      "source": [
        "#pegando do banco\n",
        "try:    \n",
        "  client = pymongo.MongoClient(\"mongodb+srv://%s:%s@%s/%s?retryWrites=true&w=majority\"%(MONGO_USER,MONGO_PASSWORD,HOST,DATABASE))        \n",
        "  #db = client.test\n",
        "  db = client.get_database(DATABASE)\n",
        "  collection = db.pnadc20203\n",
        "  #filtrando mulheres de 20 a 40 anos\n",
        "  cursor = collection.find({\"$and\":[{\"sexo\":\"Mulher\"},{\"idade\":{\"$gte\":20}},{\"idade\": {\"$lte\":40}}]})\n",
        "  df =  pd.DataFrame(list(cursor))\n",
        "\n",
        "except Exception as inst:       \n",
        "  print('erro no acesso ao banco coleção livros : %s' %(inst))  "
      ],
      "metadata": {
        "id": "HJFDn-F3Ukal"
      },
      "execution_count": 30,
      "outputs": []
    },
    {
      "cell_type": "code",
      "source": [
        "#for ibge in collection.find({'trab': 'Pessoas fora da força de trabalho'}):\n",
        "#  print(ibge)\n",
        "#for ibge in collection.find({\"$and\":[{\"sexo\":\"Mulher\"},{\"idade\":{\"$gte\":20}},{\"idade\": {\"$lte\":40}}]}):\n",
        "#  print(ibge)"
      ],
      "metadata": {
        "id": "oE18bFcGeV9t"
      },
      "execution_count": null,
      "outputs": []
    },
    {
      "cell_type": "code",
      "source": [
        "df"
      ],
      "metadata": {
        "colab": {
          "base_uri": "https://localhost:8080/",
          "height": 424
        },
        "id": "Sfbr7uPunoq1",
        "outputId": "dc4ccf25-ee87-4a54-b923-295c7a9127cb"
      },
      "execution_count": 31,
      "outputs": [
        {
          "output_type": "execute_result",
          "data": {
            "text/plain": [
              "                            _id   ano  trimestre         uf    sexo  idade  \\\n",
              "0      600ce0685daa95c6616007b1  2020          3       Acre  Mulher     35   \n",
              "1      600ce0685daa95c6616007b9  2020          3       Acre  Mulher     21   \n",
              "2      600ce0685daa95c6616007bf  2020          3       Acre  Mulher     30   \n",
              "3      600ce0685daa95c6616007c2  2020          3       Acre  Mulher     40   \n",
              "4      600ce0685daa95c6616007c3  2020          3       Acre  Mulher     24   \n",
              "...                         ...   ...        ...        ...     ...    ...   \n",
              "57330  600ce06a5daa95c66165a5e7  2020          3  Tocantins  Mulher     22   \n",
              "57331  600ce06a5daa95c66165a5e9  2020          3  Tocantins  Mulher     37   \n",
              "57332  600ce06a5daa95c66165a5ec  2020          3  Tocantins  Mulher     32   \n",
              "57333  600ce06a5daa95c66165a5ef  2020          3  Tocantins  Mulher     37   \n",
              "57334  600ce06a5daa95c66165a5fc  2020          3  Tocantins  Mulher     27   \n",
              "\n",
              "          cor graduacao                               trab  \\\n",
              "0       Parda      None       Pessoas na força de trabalho   \n",
              "1       Parda      None  Pessoas fora da força de trabalho   \n",
              "2      Branca      None       Pessoas na força de trabalho   \n",
              "3       Parda      None       Pessoas na força de trabalho   \n",
              "4       Parda       Sim       Pessoas na força de trabalho   \n",
              "...       ...       ...                                ...   \n",
              "57330   Parda      None       Pessoas na força de trabalho   \n",
              "57331   Parda      None       Pessoas na força de trabalho   \n",
              "57332   Parda      None       Pessoas na força de trabalho   \n",
              "57333   Parda      None       Pessoas na força de trabalho   \n",
              "57334   Parda      None       Pessoas na força de trabalho   \n",
              "\n",
              "                      ocup   renda  horastrab  anosesco  \n",
              "0         Pessoas ocupadas   800.0       36.0      16.0  \n",
              "1                     None     NaN        NaN      12.0  \n",
              "2         Pessoas ocupadas  1049.0       44.0      16.0  \n",
              "3         Pessoas ocupadas   600.0       25.0       9.0  \n",
              "4         Pessoas ocupadas   200.0       18.0      14.0  \n",
              "...                    ...     ...        ...       ...  \n",
              "57330  Pessoas desocupadas     NaN        NaN      12.0  \n",
              "57331     Pessoas ocupadas  1045.0       40.0       5.0  \n",
              "57332     Pessoas ocupadas  2000.0       40.0      16.0  \n",
              "57333     Pessoas ocupadas  1500.0       40.0      12.0  \n",
              "57334     Pessoas ocupadas  1045.0       40.0      14.0  \n",
              "\n",
              "[57335 rows x 13 columns]"
            ],
            "text/html": [
              "\n",
              "  <div id=\"df-11747298-efc0-4923-9109-1ba49ae6d43b\">\n",
              "    <div class=\"colab-df-container\">\n",
              "      <div>\n",
              "<style scoped>\n",
              "    .dataframe tbody tr th:only-of-type {\n",
              "        vertical-align: middle;\n",
              "    }\n",
              "\n",
              "    .dataframe tbody tr th {\n",
              "        vertical-align: top;\n",
              "    }\n",
              "\n",
              "    .dataframe thead th {\n",
              "        text-align: right;\n",
              "    }\n",
              "</style>\n",
              "<table border=\"1\" class=\"dataframe\">\n",
              "  <thead>\n",
              "    <tr style=\"text-align: right;\">\n",
              "      <th></th>\n",
              "      <th>_id</th>\n",
              "      <th>ano</th>\n",
              "      <th>trimestre</th>\n",
              "      <th>uf</th>\n",
              "      <th>sexo</th>\n",
              "      <th>idade</th>\n",
              "      <th>cor</th>\n",
              "      <th>graduacao</th>\n",
              "      <th>trab</th>\n",
              "      <th>ocup</th>\n",
              "      <th>renda</th>\n",
              "      <th>horastrab</th>\n",
              "      <th>anosesco</th>\n",
              "    </tr>\n",
              "  </thead>\n",
              "  <tbody>\n",
              "    <tr>\n",
              "      <th>0</th>\n",
              "      <td>600ce0685daa95c6616007b1</td>\n",
              "      <td>2020</td>\n",
              "      <td>3</td>\n",
              "      <td>Acre</td>\n",
              "      <td>Mulher</td>\n",
              "      <td>35</td>\n",
              "      <td>Parda</td>\n",
              "      <td>None</td>\n",
              "      <td>Pessoas na força de trabalho</td>\n",
              "      <td>Pessoas ocupadas</td>\n",
              "      <td>800.0</td>\n",
              "      <td>36.0</td>\n",
              "      <td>16.0</td>\n",
              "    </tr>\n",
              "    <tr>\n",
              "      <th>1</th>\n",
              "      <td>600ce0685daa95c6616007b9</td>\n",
              "      <td>2020</td>\n",
              "      <td>3</td>\n",
              "      <td>Acre</td>\n",
              "      <td>Mulher</td>\n",
              "      <td>21</td>\n",
              "      <td>Parda</td>\n",
              "      <td>None</td>\n",
              "      <td>Pessoas fora da força de trabalho</td>\n",
              "      <td>None</td>\n",
              "      <td>NaN</td>\n",
              "      <td>NaN</td>\n",
              "      <td>12.0</td>\n",
              "    </tr>\n",
              "    <tr>\n",
              "      <th>2</th>\n",
              "      <td>600ce0685daa95c6616007bf</td>\n",
              "      <td>2020</td>\n",
              "      <td>3</td>\n",
              "      <td>Acre</td>\n",
              "      <td>Mulher</td>\n",
              "      <td>30</td>\n",
              "      <td>Branca</td>\n",
              "      <td>None</td>\n",
              "      <td>Pessoas na força de trabalho</td>\n",
              "      <td>Pessoas ocupadas</td>\n",
              "      <td>1049.0</td>\n",
              "      <td>44.0</td>\n",
              "      <td>16.0</td>\n",
              "    </tr>\n",
              "    <tr>\n",
              "      <th>3</th>\n",
              "      <td>600ce0685daa95c6616007c2</td>\n",
              "      <td>2020</td>\n",
              "      <td>3</td>\n",
              "      <td>Acre</td>\n",
              "      <td>Mulher</td>\n",
              "      <td>40</td>\n",
              "      <td>Parda</td>\n",
              "      <td>None</td>\n",
              "      <td>Pessoas na força de trabalho</td>\n",
              "      <td>Pessoas ocupadas</td>\n",
              "      <td>600.0</td>\n",
              "      <td>25.0</td>\n",
              "      <td>9.0</td>\n",
              "    </tr>\n",
              "    <tr>\n",
              "      <th>4</th>\n",
              "      <td>600ce0685daa95c6616007c3</td>\n",
              "      <td>2020</td>\n",
              "      <td>3</td>\n",
              "      <td>Acre</td>\n",
              "      <td>Mulher</td>\n",
              "      <td>24</td>\n",
              "      <td>Parda</td>\n",
              "      <td>Sim</td>\n",
              "      <td>Pessoas na força de trabalho</td>\n",
              "      <td>Pessoas ocupadas</td>\n",
              "      <td>200.0</td>\n",
              "      <td>18.0</td>\n",
              "      <td>14.0</td>\n",
              "    </tr>\n",
              "    <tr>\n",
              "      <th>...</th>\n",
              "      <td>...</td>\n",
              "      <td>...</td>\n",
              "      <td>...</td>\n",
              "      <td>...</td>\n",
              "      <td>...</td>\n",
              "      <td>...</td>\n",
              "      <td>...</td>\n",
              "      <td>...</td>\n",
              "      <td>...</td>\n",
              "      <td>...</td>\n",
              "      <td>...</td>\n",
              "      <td>...</td>\n",
              "      <td>...</td>\n",
              "    </tr>\n",
              "    <tr>\n",
              "      <th>57330</th>\n",
              "      <td>600ce06a5daa95c66165a5e7</td>\n",
              "      <td>2020</td>\n",
              "      <td>3</td>\n",
              "      <td>Tocantins</td>\n",
              "      <td>Mulher</td>\n",
              "      <td>22</td>\n",
              "      <td>Parda</td>\n",
              "      <td>None</td>\n",
              "      <td>Pessoas na força de trabalho</td>\n",
              "      <td>Pessoas desocupadas</td>\n",
              "      <td>NaN</td>\n",
              "      <td>NaN</td>\n",
              "      <td>12.0</td>\n",
              "    </tr>\n",
              "    <tr>\n",
              "      <th>57331</th>\n",
              "      <td>600ce06a5daa95c66165a5e9</td>\n",
              "      <td>2020</td>\n",
              "      <td>3</td>\n",
              "      <td>Tocantins</td>\n",
              "      <td>Mulher</td>\n",
              "      <td>37</td>\n",
              "      <td>Parda</td>\n",
              "      <td>None</td>\n",
              "      <td>Pessoas na força de trabalho</td>\n",
              "      <td>Pessoas ocupadas</td>\n",
              "      <td>1045.0</td>\n",
              "      <td>40.0</td>\n",
              "      <td>5.0</td>\n",
              "    </tr>\n",
              "    <tr>\n",
              "      <th>57332</th>\n",
              "      <td>600ce06a5daa95c66165a5ec</td>\n",
              "      <td>2020</td>\n",
              "      <td>3</td>\n",
              "      <td>Tocantins</td>\n",
              "      <td>Mulher</td>\n",
              "      <td>32</td>\n",
              "      <td>Parda</td>\n",
              "      <td>None</td>\n",
              "      <td>Pessoas na força de trabalho</td>\n",
              "      <td>Pessoas ocupadas</td>\n",
              "      <td>2000.0</td>\n",
              "      <td>40.0</td>\n",
              "      <td>16.0</td>\n",
              "    </tr>\n",
              "    <tr>\n",
              "      <th>57333</th>\n",
              "      <td>600ce06a5daa95c66165a5ef</td>\n",
              "      <td>2020</td>\n",
              "      <td>3</td>\n",
              "      <td>Tocantins</td>\n",
              "      <td>Mulher</td>\n",
              "      <td>37</td>\n",
              "      <td>Parda</td>\n",
              "      <td>None</td>\n",
              "      <td>Pessoas na força de trabalho</td>\n",
              "      <td>Pessoas ocupadas</td>\n",
              "      <td>1500.0</td>\n",
              "      <td>40.0</td>\n",
              "      <td>12.0</td>\n",
              "    </tr>\n",
              "    <tr>\n",
              "      <th>57334</th>\n",
              "      <td>600ce06a5daa95c66165a5fc</td>\n",
              "      <td>2020</td>\n",
              "      <td>3</td>\n",
              "      <td>Tocantins</td>\n",
              "      <td>Mulher</td>\n",
              "      <td>27</td>\n",
              "      <td>Parda</td>\n",
              "      <td>None</td>\n",
              "      <td>Pessoas na força de trabalho</td>\n",
              "      <td>Pessoas ocupadas</td>\n",
              "      <td>1045.0</td>\n",
              "      <td>40.0</td>\n",
              "      <td>14.0</td>\n",
              "    </tr>\n",
              "  </tbody>\n",
              "</table>\n",
              "<p>57335 rows × 13 columns</p>\n",
              "</div>\n",
              "      <button class=\"colab-df-convert\" onclick=\"convertToInteractive('df-11747298-efc0-4923-9109-1ba49ae6d43b')\"\n",
              "              title=\"Convert this dataframe to an interactive table.\"\n",
              "              style=\"display:none;\">\n",
              "        \n",
              "  <svg xmlns=\"http://www.w3.org/2000/svg\" height=\"24px\"viewBox=\"0 0 24 24\"\n",
              "       width=\"24px\">\n",
              "    <path d=\"M0 0h24v24H0V0z\" fill=\"none\"/>\n",
              "    <path d=\"M18.56 5.44l.94 2.06.94-2.06 2.06-.94-2.06-.94-.94-2.06-.94 2.06-2.06.94zm-11 1L8.5 8.5l.94-2.06 2.06-.94-2.06-.94L8.5 2.5l-.94 2.06-2.06.94zm10 10l.94 2.06.94-2.06 2.06-.94-2.06-.94-.94-2.06-.94 2.06-2.06.94z\"/><path d=\"M17.41 7.96l-1.37-1.37c-.4-.4-.92-.59-1.43-.59-.52 0-1.04.2-1.43.59L10.3 9.45l-7.72 7.72c-.78.78-.78 2.05 0 2.83L4 21.41c.39.39.9.59 1.41.59.51 0 1.02-.2 1.41-.59l7.78-7.78 2.81-2.81c.8-.78.8-2.07 0-2.86zM5.41 20L4 18.59l7.72-7.72 1.47 1.35L5.41 20z\"/>\n",
              "  </svg>\n",
              "      </button>\n",
              "      \n",
              "  <style>\n",
              "    .colab-df-container {\n",
              "      display:flex;\n",
              "      flex-wrap:wrap;\n",
              "      gap: 12px;\n",
              "    }\n",
              "\n",
              "    .colab-df-convert {\n",
              "      background-color: #E8F0FE;\n",
              "      border: none;\n",
              "      border-radius: 50%;\n",
              "      cursor: pointer;\n",
              "      display: none;\n",
              "      fill: #1967D2;\n",
              "      height: 32px;\n",
              "      padding: 0 0 0 0;\n",
              "      width: 32px;\n",
              "    }\n",
              "\n",
              "    .colab-df-convert:hover {\n",
              "      background-color: #E2EBFA;\n",
              "      box-shadow: 0px 1px 2px rgba(60, 64, 67, 0.3), 0px 1px 3px 1px rgba(60, 64, 67, 0.15);\n",
              "      fill: #174EA6;\n",
              "    }\n",
              "\n",
              "    [theme=dark] .colab-df-convert {\n",
              "      background-color: #3B4455;\n",
              "      fill: #D2E3FC;\n",
              "    }\n",
              "\n",
              "    [theme=dark] .colab-df-convert:hover {\n",
              "      background-color: #434B5C;\n",
              "      box-shadow: 0px 1px 3px 1px rgba(0, 0, 0, 0.15);\n",
              "      filter: drop-shadow(0px 1px 2px rgba(0, 0, 0, 0.3));\n",
              "      fill: #FFFFFF;\n",
              "    }\n",
              "  </style>\n",
              "\n",
              "      <script>\n",
              "        const buttonEl =\n",
              "          document.querySelector('#df-11747298-efc0-4923-9109-1ba49ae6d43b button.colab-df-convert');\n",
              "        buttonEl.style.display =\n",
              "          google.colab.kernel.accessAllowed ? 'block' : 'none';\n",
              "\n",
              "        async function convertToInteractive(key) {\n",
              "          const element = document.querySelector('#df-11747298-efc0-4923-9109-1ba49ae6d43b');\n",
              "          const dataTable =\n",
              "            await google.colab.kernel.invokeFunction('convertToInteractive',\n",
              "                                                     [key], {});\n",
              "          if (!dataTable) return;\n",
              "\n",
              "          const docLinkHtml = 'Like what you see? Visit the ' +\n",
              "            '<a target=\"_blank\" href=https://colab.research.google.com/notebooks/data_table.ipynb>data table notebook</a>'\n",
              "            + ' to learn more about interactive tables.';\n",
              "          element.innerHTML = '';\n",
              "          dataTable['output_type'] = 'display_data';\n",
              "          await google.colab.output.renderOutput(dataTable, element);\n",
              "          const docLink = document.createElement('div');\n",
              "          docLink.innerHTML = docLinkHtml;\n",
              "          element.appendChild(docLink);\n",
              "        }\n",
              "      </script>\n",
              "    </div>\n",
              "  </div>\n",
              "  "
            ]
          },
          "metadata": {},
          "execution_count": 31
        }
      ]
    },
    {
      "cell_type": "code",
      "source": [
        "#Qual é a média de renda das pessoas presentes no seu banco de dados? \n",
        "df.renda.mean()"
      ],
      "metadata": {
        "colab": {
          "base_uri": "https://localhost:8080/"
        },
        "id": "zdn73h0Ta6UX",
        "outputId": "196f3a42-641f-4f94-c438-de7c593ef90a"
      },
      "execution_count": 34,
      "outputs": [
        {
          "output_type": "execute_result",
          "data": {
            "text/plain": [
              "1809.284263959391"
            ]
          },
          "metadata": {},
          "execution_count": 34
        }
      ]
    },
    {
      "cell_type": "code",
      "source": [
        "df.uf.unique()"
      ],
      "metadata": {
        "colab": {
          "base_uri": "https://localhost:8080/"
        },
        "id": "0xjbKfggb_V2",
        "outputId": "98bb253c-4637-4317-804d-d728d82609dd"
      },
      "execution_count": 35,
      "outputs": [
        {
          "output_type": "execute_result",
          "data": {
            "text/plain": [
              "array(['Acre', 'Alagoas', 'Amapá', 'Amazonas', 'Bahia', 'Ceará',\n",
              "       'Distrito Federal', 'Espírito Santo', 'Goiás', 'Maranhão',\n",
              "       'Mato Grosso', 'Mato Grosso do Sul', 'Minas Gerais', 'Pará',\n",
              "       'Paraíba', 'Paraná', 'Pernambuco', 'Piauí', 'Rio de Janeiro',\n",
              "       'Rio Grande do Norte', 'Rio Grande do Sul', 'Rondônia', 'Roraima',\n",
              "       'Santa Catarina', 'São Paulo', 'Sergipe', 'Tocantins'],\n",
              "      dtype=object)"
            ]
          },
          "metadata": {},
          "execution_count": 35
        }
      ]
    },
    {
      "cell_type": "code",
      "source": [
        "#Qual é a média de renda das pessoas que residem no Distrito Federal? \n",
        "df.loc[df['uf']=='Distrito Federal']['renda'].mean()"
      ],
      "metadata": {
        "colab": {
          "base_uri": "https://localhost:8080/"
        },
        "id": "RPKUZjEVcICP",
        "outputId": "9d8f3a4d-1d45-4d59-dc67-ff0d0b296687"
      },
      "execution_count": 36,
      "outputs": [
        {
          "output_type": "execute_result",
          "data": {
            "text/plain": [
              "2795.944869831547"
            ]
          },
          "metadata": {},
          "execution_count": 36
        }
      ]
    },
    {
      "cell_type": "code",
      "source": [
        "#Qual é a média de renda das pessoas que moram na região sudeste do país (dos que estão na sua amostra, é claro)?\n",
        "sudeste =  ['São Paulo','Rio de Janeiro','Espírito Santo','Minas Gerais']\n",
        "df.loc[(df['uf'].isin(sudeste))]['renda'].mean()"
      ],
      "metadata": {
        "colab": {
          "base_uri": "https://localhost:8080/"
        },
        "id": "6Ugk5XlWYTLE",
        "outputId": "ec6579dc-07ca-4b65-c6f4-2894d9fe0115"
      },
      "execution_count": 44,
      "outputs": [
        {
          "output_type": "execute_result",
          "data": {
            "text/plain": [
              "2034.061875"
            ]
          },
          "metadata": {},
          "execution_count": 44
        }
      ]
    },
    {
      "cell_type": "code",
      "source": [
        "#Qual é o estado brasileiro que possui a menor média de renda?\n",
        "df.groupby('uf')['renda'].mean().sort_values().head(2)"
      ],
      "metadata": {
        "colab": {
          "base_uri": "https://localhost:8080/"
        },
        "id": "9hFRgCcl7lfo",
        "outputId": "4ce15596-859f-4bd9-f83b-9d7363b7a0b7"
      },
      "execution_count": 48,
      "outputs": [
        {
          "output_type": "execute_result",
          "data": {
            "text/plain": [
              "uf\n",
              "Alagoas     1116.098996\n",
              "Maranhão    1116.234091\n",
              "Name: renda, dtype: float64"
            ]
          },
          "metadata": {},
          "execution_count": 48
        }
      ]
    },
    {
      "cell_type": "code",
      "source": [
        "#Qual é o estado brasileiro que possui a maior média de escolaridade? \n",
        "df.groupby('uf')['anosesco'].mean().sort_values(ascending=False).head(2)"
      ],
      "metadata": {
        "colab": {
          "base_uri": "https://localhost:8080/"
        },
        "id": "QOJeTXiI8HNQ",
        "outputId": "c82c3bc7-2551-47e8-e0c4-2cad3138edaf"
      },
      "execution_count": 50,
      "outputs": [
        {
          "output_type": "execute_result",
          "data": {
            "text/plain": [
              "uf\n",
              "Distrito Federal    13.109712\n",
              "São Paulo           12.623122\n",
              "Name: anosesco, dtype: float64"
            ]
          },
          "metadata": {},
          "execution_count": 50
        }
      ]
    },
    {
      "cell_type": "code",
      "source": [
        "#Qual é a média de escolaridade entre as mulheres que moram no Paraná e estão entre 25 e 30 anos? \n",
        "df.loc[(df.uf=='Paraná')&(df.idade>=25)&(df.idade<=30)]['anosesco'].mean()"
      ],
      "metadata": {
        "colab": {
          "base_uri": "https://localhost:8080/"
        },
        "id": "3y2CZ6cr8iIG",
        "outputId": "fe4e8846-880a-4f70-a1ff-48c99262ddba"
      },
      "execution_count": 51,
      "outputs": [
        {
          "output_type": "execute_result",
          "data": {
            "text/plain": [
              "12.613469985358712"
            ]
          },
          "metadata": {},
          "execution_count": 51
        }
      ]
    },
    {
      "cell_type": "code",
      "source": [
        "#Qual é a média de renda para as pessoas na região Sul do país, que estão na força de trabalho e possuem entre 25 e 35 anos? \n",
        "sul=['Paraná','Santa Catarina','Rio Grande do Sul']\n",
        "df.loc[(df['uf'].isin(sul))&(df.trab=='Pessoas na força de trabalho')&(df.idade>=25)&(df.idade<=35)]['renda'].mean()"
      ],
      "metadata": {
        "colab": {
          "base_uri": "https://localhost:8080/"
        },
        "id": "Xru-7SGY89De",
        "outputId": "db8ab0bd-f0dd-411e-9aa5-7fbf499f4f03"
      },
      "execution_count": 52,
      "outputs": [
        {
          "output_type": "execute_result",
          "data": {
            "text/plain": [
              "2231.8926080892606"
            ]
          },
          "metadata": {},
          "execution_count": 52
        }
      ]
    },
    {
      "cell_type": "code",
      "source": [
        "#Qual é a renda média das mulheres que residem na região Norte do Brasil, possuem graduação, têm idade entre 25 e 35 anos e são pretas ou pardas? \n",
        "norte=['Pará','Amazonas','Acre','Rondônia','Roraima','Tocantins','Amapá']\n",
        "raca=['Parda','Preta']\n",
        "df.loc[(df['uf'].isin(norte))&(df.graduacao=='Sim')&(df.idade>=25)&(df.idade<=35)&(df.cor.isin(raca))]['renda'].mean()"
      ],
      "metadata": {
        "colab": {
          "base_uri": "https://localhost:8080/"
        },
        "id": "gk71BkSx9gQG",
        "outputId": "aeca4112-fd42-44d7-983b-92cdb1f8f587"
      },
      "execution_count": 54,
      "outputs": [
        {
          "output_type": "execute_result",
          "data": {
            "text/plain": [
              "1391.6666666666667"
            ]
          },
          "metadata": {},
          "execution_count": 54
        }
      ]
    }
  ]
}